{
 "cells": [
  {
   "cell_type": "code",
   "execution_count": 1,
   "metadata": {},
   "outputs": [
    {
     "name": "stderr",
     "output_type": "stream",
     "text": [
      "/opt/conda/envs/klue/lib/python3.8/site-packages/tqdm/auto.py:22: TqdmWarning: IProgress not found. Please update jupyter and ipywidgets. See https://ipywidgets.readthedocs.io/en/stable/user_install.html\n",
      "  from .autonotebook import tqdm as notebook_tqdm\n"
     ]
    }
   ],
   "source": [
    "import pickle\n",
    "from utils import *\n",
    "from matplotlib import pyplot as plt\n",
    "from transformers import AutoTokenizer"
   ]
  },
  {
   "cell_type": "code",
   "execution_count": 2,
   "metadata": {},
   "outputs": [],
   "source": [
    "with open('dict_label_to_num.pkl', 'rb') as f:\n",
    "    dict_label_to_num = pickle.load(f)"
   ]
  },
  {
   "cell_type": "code",
   "execution_count": 3,
   "metadata": {},
   "outputs": [],
   "source": [
    "with open('dict_num_to_label.pkl', 'rb') as f:\n",
    "    dict_num_to_label = pickle.load(f)"
   ]
  },
  {
   "cell_type": "code",
   "execution_count": 4,
   "metadata": {},
   "outputs": [],
   "source": [
    "def label_to_num(label):\n",
    "  num_label = []\n",
    "  with open('dict_label_to_num.pkl', 'rb') as f:\n",
    "    dict_label_to_num = pickle.load(f)\n",
    "  for v in label:\n",
    "    num_label.append(dict_label_to_num[v])\n",
    "  \n",
    "  return num_label"
   ]
  },
  {
   "cell_type": "code",
   "execution_count": 5,
   "metadata": {},
   "outputs": [],
   "source": [
    "train_dataset = load_data(\"./dataset/train/alternate_train.csv\")\n",
    "train_label = label_to_num(train_dataset['label'].values)"
   ]
  },
  {
   "cell_type": "code",
   "execution_count": 6,
   "metadata": {},
   "outputs": [],
   "source": [
    "raw_data = pd.read_csv(\"./dataset/train/alternate_train.csv\", sep='\\t', engine='python')"
   ]
  },
  {
   "cell_type": "code",
   "execution_count": 7,
   "metadata": {},
   "outputs": [
    {
     "data": {
      "text/html": [
       "<div>\n",
       "<style scoped>\n",
       "    .dataframe tbody tr th:only-of-type {\n",
       "        vertical-align: middle;\n",
       "    }\n",
       "\n",
       "    .dataframe tbody tr th {\n",
       "        vertical-align: top;\n",
       "    }\n",
       "\n",
       "    .dataframe thead th {\n",
       "        text-align: right;\n",
       "    }\n",
       "</style>\n",
       "<table border=\"1\" class=\"dataframe\">\n",
       "  <thead>\n",
       "    <tr style=\"text-align: right;\">\n",
       "      <th></th>\n",
       "      <th>id</th>\n",
       "      <th>sentence</th>\n",
       "      <th>subject_entity</th>\n",
       "      <th>object_entity</th>\n",
       "      <th>label</th>\n",
       "      <th>source</th>\n",
       "    </tr>\n",
       "  </thead>\n",
       "  <tbody>\n",
       "    <tr>\n",
       "      <th>0</th>\n",
       "      <td>0</td>\n",
       "      <td>〈Something〉는 조지 해리슨이 쓰고 비틀즈가 1969년 앨범 《Abbey R...</td>\n",
       "      <td>{'word': '비틀즈', 'start_idx': 24, 'end_idx': 26...</td>\n",
       "      <td>{'word': '조지 해리슨', 'start_idx': 13, 'end_idx':...</td>\n",
       "      <td>no_relation</td>\n",
       "      <td>wikipedia</td>\n",
       "    </tr>\n",
       "    <tr>\n",
       "      <th>1</th>\n",
       "      <td>1</td>\n",
       "      <td>호남이 기반인 바른미래당·대안신당·민주평화당이 우여곡절 끝에 합당해 민생당(가칭)으...</td>\n",
       "      <td>{'word': '민주평화당', 'start_idx': 19, 'end_idx': ...</td>\n",
       "      <td>{'word': '대안신당', 'start_idx': 14, 'end_idx': 1...</td>\n",
       "      <td>no_relation</td>\n",
       "      <td>wikitree</td>\n",
       "    </tr>\n",
       "    <tr>\n",
       "      <th>2</th>\n",
       "      <td>2</td>\n",
       "      <td>K리그2에서 성적 1위를 달리고 있는 광주FC는 지난 26일 한국프로축구연맹으로부터...</td>\n",
       "      <td>{'word': '광주FC', 'start_idx': 21, 'end_idx': 2...</td>\n",
       "      <td>{'word': '한국프로축구연맹', 'start_idx': 34, 'end_idx...</td>\n",
       "      <td>org:member_of</td>\n",
       "      <td>wikitree</td>\n",
       "    </tr>\n",
       "    <tr>\n",
       "      <th>3</th>\n",
       "      <td>3</td>\n",
       "      <td>균일가 생활용품점 (주)아성다이소(대표 박정부)는 코로나19 바이러스로 어려움을 겪...</td>\n",
       "      <td>{'word': '아성다이소', 'start_idx': 13, 'end_idx': ...</td>\n",
       "      <td>{'word': '박정부', 'start_idx': 22, 'end_idx': 24...</td>\n",
       "      <td>org:top_members/employees</td>\n",
       "      <td>wikitree</td>\n",
       "    </tr>\n",
       "    <tr>\n",
       "      <th>4</th>\n",
       "      <td>4</td>\n",
       "      <td>1967년 프로 야구 드래프트 1순위로 요미우리 자이언츠에게 입단하면서 등번호는 8...</td>\n",
       "      <td>{'word': '요미우리 자이언츠', 'start_idx': 22, 'end_id...</td>\n",
       "      <td>{'word': '1967', 'start_idx': 0, 'end_idx': 3,...</td>\n",
       "      <td>no_relation</td>\n",
       "      <td>wikipedia</td>\n",
       "    </tr>\n",
       "    <tr>\n",
       "      <th>5</th>\n",
       "      <td>5</td>\n",
       "      <td>: 유엔, 유럽 의회, 북대서양 조약 기구 (NATO), 국제이주기구, 세계 보건 ...</td>\n",
       "      <td>{'word': '북대서양 조약 기구', 'start_idx': 13, 'end_i...</td>\n",
       "      <td>{'word': 'NATO', 'start_idx': 25, 'end_idx': 2...</td>\n",
       "      <td>org:alternate_names</td>\n",
       "      <td>wikipedia</td>\n",
       "    </tr>\n",
       "    <tr>\n",
       "      <th>6</th>\n",
       "      <td>6</td>\n",
       "      <td>그에 따라 나폴리와 계약을 연장한 마라도나는 1989년 팀을 UEFA컵 정상으로 인...</td>\n",
       "      <td>{'word': 'AC 밀란', 'start_idx': 64, 'end_idx': ...</td>\n",
       "      <td>{'word': '1989', 'start_idx': 25, 'end_idx': 2...</td>\n",
       "      <td>no_relation</td>\n",
       "      <td>wikipedia</td>\n",
       "    </tr>\n",
       "    <tr>\n",
       "      <th>7</th>\n",
       "      <td>7</td>\n",
       "      <td>박용오(朴容旿, 1937년 4월 29일(음력 3월 19일)(음력 3월 19일) ~ ...</td>\n",
       "      <td>{'word': '박용오', 'start_idx': 0, 'end_idx': 2, ...</td>\n",
       "      <td>{'word': '1937년 4월 29일', 'start_idx': 9, 'end_...</td>\n",
       "      <td>per:date_of_birth</td>\n",
       "      <td>wikipedia</td>\n",
       "    </tr>\n",
       "    <tr>\n",
       "      <th>8</th>\n",
       "      <td>8</td>\n",
       "      <td>중공군에게 온전히 대항할 수 없을 정도로 약해진 국민당은 타이베이로 수도를 옮기는 ...</td>\n",
       "      <td>{'word': '중화민국', 'start_idx': 59, 'end_idx': 6...</td>\n",
       "      <td>{'word': '타이베이', 'start_idx': 32, 'end_idx': 3...</td>\n",
       "      <td>org:place_of_headquarters</td>\n",
       "      <td>wikipedia</td>\n",
       "    </tr>\n",
       "    <tr>\n",
       "      <th>9</th>\n",
       "      <td>9</td>\n",
       "      <td>특히 김동연 전 경제부총리를 비롯한 김두관 국회의원, 안규백 국회의원, 김종민 국회...</td>\n",
       "      <td>{'word': '안규백', 'start_idx': 30, 'end_idx': 32...</td>\n",
       "      <td>{'word': '더불어민주당', 'start_idx': 100, 'end_idx'...</td>\n",
       "      <td>per:employee_of</td>\n",
       "      <td>wikitree</td>\n",
       "    </tr>\n",
       "  </tbody>\n",
       "</table>\n",
       "</div>"
      ],
      "text/plain": [
       "   id                                           sentence  \\\n",
       "0   0  〈Something〉는 조지 해리슨이 쓰고 비틀즈가 1969년 앨범 《Abbey R...   \n",
       "1   1  호남이 기반인 바른미래당·대안신당·민주평화당이 우여곡절 끝에 합당해 민생당(가칭)으...   \n",
       "2   2  K리그2에서 성적 1위를 달리고 있는 광주FC는 지난 26일 한국프로축구연맹으로부터...   \n",
       "3   3  균일가 생활용품점 (주)아성다이소(대표 박정부)는 코로나19 바이러스로 어려움을 겪...   \n",
       "4   4  1967년 프로 야구 드래프트 1순위로 요미우리 자이언츠에게 입단하면서 등번호는 8...   \n",
       "5   5  : 유엔, 유럽 의회, 북대서양 조약 기구 (NATO), 국제이주기구, 세계 보건 ...   \n",
       "6   6  그에 따라 나폴리와 계약을 연장한 마라도나는 1989년 팀을 UEFA컵 정상으로 인...   \n",
       "7   7  박용오(朴容旿, 1937년 4월 29일(음력 3월 19일)(음력 3월 19일) ~ ...   \n",
       "8   8  중공군에게 온전히 대항할 수 없을 정도로 약해진 국민당은 타이베이로 수도를 옮기는 ...   \n",
       "9   9  특히 김동연 전 경제부총리를 비롯한 김두관 국회의원, 안규백 국회의원, 김종민 국회...   \n",
       "\n",
       "                                      subject_entity  \\\n",
       "0  {'word': '비틀즈', 'start_idx': 24, 'end_idx': 26...   \n",
       "1  {'word': '민주평화당', 'start_idx': 19, 'end_idx': ...   \n",
       "2  {'word': '광주FC', 'start_idx': 21, 'end_idx': 2...   \n",
       "3  {'word': '아성다이소', 'start_idx': 13, 'end_idx': ...   \n",
       "4  {'word': '요미우리 자이언츠', 'start_idx': 22, 'end_id...   \n",
       "5  {'word': '북대서양 조약 기구', 'start_idx': 13, 'end_i...   \n",
       "6  {'word': 'AC 밀란', 'start_idx': 64, 'end_idx': ...   \n",
       "7  {'word': '박용오', 'start_idx': 0, 'end_idx': 2, ...   \n",
       "8  {'word': '중화민국', 'start_idx': 59, 'end_idx': 6...   \n",
       "9  {'word': '안규백', 'start_idx': 30, 'end_idx': 32...   \n",
       "\n",
       "                                       object_entity  \\\n",
       "0  {'word': '조지 해리슨', 'start_idx': 13, 'end_idx':...   \n",
       "1  {'word': '대안신당', 'start_idx': 14, 'end_idx': 1...   \n",
       "2  {'word': '한국프로축구연맹', 'start_idx': 34, 'end_idx...   \n",
       "3  {'word': '박정부', 'start_idx': 22, 'end_idx': 24...   \n",
       "4  {'word': '1967', 'start_idx': 0, 'end_idx': 3,...   \n",
       "5  {'word': 'NATO', 'start_idx': 25, 'end_idx': 2...   \n",
       "6  {'word': '1989', 'start_idx': 25, 'end_idx': 2...   \n",
       "7  {'word': '1937년 4월 29일', 'start_idx': 9, 'end_...   \n",
       "8  {'word': '타이베이', 'start_idx': 32, 'end_idx': 3...   \n",
       "9  {'word': '더불어민주당', 'start_idx': 100, 'end_idx'...   \n",
       "\n",
       "                       label     source  \n",
       "0                no_relation  wikipedia  \n",
       "1                no_relation   wikitree  \n",
       "2              org:member_of   wikitree  \n",
       "3  org:top_members/employees   wikitree  \n",
       "4                no_relation  wikipedia  \n",
       "5        org:alternate_names  wikipedia  \n",
       "6                no_relation  wikipedia  \n",
       "7          per:date_of_birth  wikipedia  \n",
       "8  org:place_of_headquarters  wikipedia  \n",
       "9            per:employee_of   wikitree  "
      ]
     },
     "execution_count": 7,
     "metadata": {},
     "output_type": "execute_result"
    }
   ],
   "source": [
    "raw_data.head(10)"
   ]
  },
  {
   "cell_type": "code",
   "execution_count": 9,
   "metadata": {},
   "outputs": [],
   "source": [
    "MODEL_NAME = \"klue/roberta-large\"\n",
    "tokenizer = AutoTokenizer.from_pretrained(MODEL_NAME)\n",
    "added_token_num = tokenizer.add_special_tokens({\"additional_special_tokens\":[\"[SUBJ]\", \"[/SUBJ]\", \"[OBJ]\", \"[/OBJ]\"]})\n",
    "tokenized_train = tokenized_dataset(train_dataset, tokenizer)\n",
    "RE_train_dataset = RE_Dataset(tokenized_train, train_label)"
   ]
  },
  {
   "cell_type": "code",
   "execution_count": 10,
   "metadata": {},
   "outputs": [
    {
     "name": "stdout",
     "output_type": "stream",
     "text": [
      "32428\n"
     ]
    }
   ],
   "source": [
    "print(len(RE_train_dataset))"
   ]
  },
  {
   "cell_type": "code",
   "execution_count": 23,
   "metadata": {},
   "outputs": [
    {
     "name": "stdout",
     "output_type": "stream",
     "text": [
      "tensor([    0,    47, 17665,  2302, 27135,  4610,    21,  2090,  2138,  4214,\n",
      "         2088,  1513,  2259, 32000,  4104, 10904, 32001,   793,  3625,  4210,\n",
      "         2210, 32002,  3629, 17287, 20212, 32003,  4500,  8862,  4415,  4422,\n",
      "         2522,  4852,  4422,  2138,  6157,  2227,   114,  1872, 14198,  2290,\n",
      "          115,   604,   114,  6646, 14198,  2290,   115,  1498,  4812,  2371,\n",
      "         2062,    18,     2,     1,     1,     1,     1,     1,     1,     1])\n"
     ]
    }
   ],
   "source": [
    "print(RE_train_dataset[2]['input_ids'][:60])\n",
    "print(RE_train_dataset[2]['entity_ids'][:60])"
   ]
  },
  {
   "cell_type": "code",
   "execution_count": 12,
   "metadata": {},
   "outputs": [
    {
     "name": "stdout",
     "output_type": "stream",
     "text": [
      "32428\n"
     ]
    }
   ],
   "source": [
    "print(len(tokenized_train.input_ids))"
   ]
  },
  {
   "cell_type": "code",
   "execution_count": 23,
   "metadata": {},
   "outputs": [
    {
     "data": {
      "text/plain": [
       "tensor([    0,   168, 30985, 14451,  7088,  4586,   169,   793, 32002,  8373,\n",
       "        14113,  2234, 32003,  1504,  1363,  2088, 32000, 29830, 32001,   543,\n",
       "        14879,  2440,  6711,   170, 21406, 26713,  2076, 25145,  5749,   171,\n",
       "         1421,   818,  2073,  4388,  2062,    18,     2,     1,     1,     1,\n",
       "            1,     1,     1,     1,     1,     1,     1,     1,     1,     1,\n",
       "            1,     1,     1,     1,     1,     1,     1,     1,     1,     1,\n",
       "            1,     1,     1,     1,     1,     1,     1,     1,     1,     1,\n",
       "            1,     1,     1,     1,     1,     1,     1,     1,     1,     1,\n",
       "            1,     1,     1,     1,     1,     1,     1,     1,     1,     1,\n",
       "            1,     1,     1,     1,     1,     1,     1,     1,     1,     1,\n",
       "            1,     1,     1,     1,     1,     1,     1,     1,     1,     1,\n",
       "            1,     1,     1,     1,     1,     1,     1,     1,     1,     1,\n",
       "            1,     1,     1,     1,     1,     1,     1,     1,     1,     1,\n",
       "            1,     1,     1,     1,     1,     1,     1,     1,     1,     1,\n",
       "            1,     1,     1,     1,     1,     1,     1,     1,     1,     1,\n",
       "            1,     1,     1,     1,     1,     1,     1,     1,     1,     1,\n",
       "            1,     1,     1,     1,     1,     1,     1,     1,     1,     1,\n",
       "            1,     1,     1,     1,     1,     1,     1,     1,     1,     1,\n",
       "            1,     1,     1,     1,     1,     1,     1,     1,     1,     1,\n",
       "            1,     1,     1,     1,     1,     1,     1,     1,     1,     1,\n",
       "            1,     1,     1,     1,     1,     1,     1,     1,     1,     1,\n",
       "            1,     1,     1,     1,     1,     1,     1,     1,     1,     1,\n",
       "            1,     1,     1,     1,     1,     1,     1,     1,     1,     1,\n",
       "            1,     1,     1,     1,     1])"
      ]
     },
     "execution_count": 23,
     "metadata": {},
     "output_type": "execute_result"
    }
   ],
   "source": [
    "tokenized_train.input_ids[0]"
   ]
  },
  {
   "cell_type": "code",
   "execution_count": 12,
   "metadata": {},
   "outputs": [],
   "source": [
    "from collections import Counter\n",
    "counter = Counter()\n",
    "for tokenized_sentence in tokenized_train.input_ids:\n",
    "    counter.update(tokenized_sentence.numpy())"
   ]
  },
  {
   "cell_type": "code",
   "execution_count": 14,
   "metadata": {},
   "outputs": [
    {
     "name": "stdout",
     "output_type": "stream",
     "text": [
      "토큰화된 학습 문장 최대 길이 : 235\n",
      "토큰화된 학습 문장의 평균 길이 : 56.90757622420696\n",
      "32470\n"
     ]
    },
    {
     "data": {
      "image/png": "[encoded data removed]",
      "text/plain": [
       "<Figure size 432x288 with 1 Axes>"
      ]
     },
     "metadata": {
      "needs_background": "light"
     },
     "output_type": "display_data"
    }
   ],
   "source": [
    "#토큰화된 학습 문장의 길이조사\n",
    "print('토큰화된 학습 문장 최대 길이 :',max(sum(l).numpy() for l in tokenized_train.attention_mask))\n",
    "print('토큰화된 학습 문장의 평균 길이 :',sum(sum(l).numpy() for l in tokenized_train.attention_mask)/len(tokenized_train.attention_mask))\n",
    "print(len(tokenized_train.attention_mask))\n",
    "values = [int(sum(l).numpy()) for l in tokenized_train.attention_mask]\n",
    "plt.hist(values, bins=50)\n",
    "plt.xlabel('length of data')\n",
    "plt.ylabel('number of data')\n",
    "plt.show()"
   ]
  },
  {
   "cell_type": "code",
   "execution_count": 15,
   "metadata": {},
   "outputs": [
    {
     "name": "stdout",
     "output_type": "stream",
     "text": [
      "총 문장 개수 : 32470\n",
      "[UNK] 토큰 개수 : 6315\n",
      "전체 토큰 개수(PAD제외) : 1847789\n",
      "[UNK] 비율 : 0.34175980049670174%\n"
     ]
    }
   ],
   "source": [
    "# train 데이터셋에서 UNK 토큰이 있나 확인함(0.3317%)\n",
    "print(f\"총 문장 개수 : {len(tokenized_train.input_ids)}\")\n",
    "cnt = sum(sum((tokenized_train.input_ids == 3))).numpy()\n",
    "total_words = sum(sum(tokenized_train.attention_mask)).numpy()\n",
    "\n",
    "print(f\"[UNK] 토큰 개수 : {cnt}\")\n",
    "print(f\"전체 토큰 개수(PAD제외) : {total_words}\")\n",
    "print(f\"[UNK] 비율 : {cnt / total_words * 100}%\")"
   ]
  },
  {
   "cell_type": "code",
   "execution_count": 16,
   "metadata": {},
   "outputs": [],
   "source": [
    "test_dataset = load_data(\"./dataset/test/alternate_test.csv\")\n",
    "tokenized_test = tokenized_dataset(test_dataset, tokenizer)"
   ]
  },
  {
   "cell_type": "code",
   "execution_count": 35,
   "metadata": {},
   "outputs": [
    {
     "data": {
      "text/plain": [
       "array(['no_relation', 'no_relation', 'org:member_of', ...,\n",
       "       'org:top_members/employees', 'no_relation',\n",
       "       'org:top_members/employees'], dtype=object)"
      ]
     },
     "execution_count": 35,
     "metadata": {},
     "output_type": "execute_result"
    }
   ],
   "source": [
    "train_dataset['label'].values"
   ]
  },
  {
   "cell_type": "code",
   "execution_count": 30,
   "metadata": {},
   "outputs": [
    {
     "data": {
      "text/plain": [
       "\"지난 15일 MBC'탐사기획 스트레이트'가 이 사실을 보도했다.\""
      ]
     },
     "execution_count": 30,
     "metadata": {},
     "output_type": "execute_result"
    }
   ],
   "source": [
    "tokenizer.decode(tokenized_test.input_ids[0], skip_special_tokens=True)"
   ]
  },
  {
   "cell_type": "code",
   "execution_count": 33,
   "metadata": {},
   "outputs": [
    {
     "data": {
      "text/plain": [
       "100"
      ]
     },
     "execution_count": 33,
     "metadata": {},
     "output_type": "execute_result"
    }
   ],
   "source": [
    "test_dataset.label[0]"
   ]
  },
  {
   "cell_type": "code",
   "execution_count": 17,
   "metadata": {},
   "outputs": [
    {
     "name": "stdout",
     "output_type": "stream",
     "text": [
      "   id                                           sentence subject_entity  \\\n",
      "0   0               지난 15일 MBC '탐사기획 스트레이트'가 이 사실을 보도했다.            MBC   \n",
      "1   1  사랑스러운 ‘프린세스 프링’의 이름은 봄의 공주님: Princess(s)Pring이...        프린세스 프링   \n",
      "2   2  한편, 본인(이근안)을 모델로 한 MBC 특집드라마 가 1995년 6.25 특집극으...             경찰   \n",
      "3   3  정창손은 김질과 같이 대궐로 달려가 고변하며 '신은 실로 모르고 김질만 혼자 참여하...             세조   \n",
      "4   4  당시 민주당 이진련 시의원은 권영진 시장에게 \"긴급 생계자금을 왜 현금으로 지원하지...            민주당   \n",
      "5   5  미국은 필리핀 측에서는 동맹이 아니라 지배자가 되었다고 볼 수 있기 때문에, 필리핀...            필리핀   \n",
      "6   6  한국당 전희경 대변인은 이날 정 총리 후보자 지명 직후 논평을 내고 \"의회를 시녀화...            전희경   \n",
      "7   7  문재인 대통령 부인 김정숙 여사는 22일부터 1박2일 일정으로 광주를 방문해 경기를...            문재인   \n",
      "8   8  조선민주주의인민공화국 관할 지역은 개풍군 영북면 월고리 및 연천군 서남면 지역을 합...    조선민주주의인민공화국   \n",
      "9   9         소련군에서 그의 이름도 중국식의 진지첸으로 조선인으로서의 정체성도 희박했다.            소련군   \n",
      "\n",
      "  object_entity subject_span object_span  label  \n",
      "0    탐사기획 스트레이트       (7, 9)    (12, 21)    100  \n",
      "1            공주      (7, 13)    (84, 85)    100  \n",
      "2         1995년   (121, 122)    (31, 35)    100  \n",
      "3           정창손     (78, 79)      (0, 2)    100  \n",
      "4           권영진       (3, 5)    (16, 18)    100  \n",
      "5            미국       (4, 6)      (0, 1)    100  \n",
      "6           한국당       (4, 6)      (0, 2)    100  \n",
      "7           김정숙       (0, 2)    (11, 13)    100  \n",
      "8           개풍군      (0, 10)    (19, 21)    100  \n",
      "9           진지첸       (0, 2)    (18, 20)    100  \n"
     ]
    }
   ],
   "source": [
    "print(test_dataset[:10])"
   ]
  },
  {
   "cell_type": "code",
   "execution_count": 19,
   "metadata": {},
   "outputs": [
    {
     "name": "stdout",
     "output_type": "stream",
     "text": [
      "토큰화된 테스트 문장 최대 길이 : 227\n",
      "토큰화된 테스트 문장의 평균 길이 : 55.15054732775274\n",
      "7765\n"
     ]
    },
    {
     "data": {
      "image/png": "[encoded data removed]",
      "text/plain": [
       "<Figure size 432x288 with 1 Axes>"
      ]
     },
     "metadata": {
      "needs_background": "light"
     },
     "output_type": "display_data"
    }
   ],
   "source": [
    "#토큰화된 테스트 문장의 길이조사\n",
    "print('토큰화된 테스트 문장 최대 길이 :',max(sum(l).numpy() for l in tokenized_test.attention_mask))\n",
    "print('토큰화된 테스트 문장의 평균 길이 :',sum(sum(l).numpy() for l in tokenized_test.attention_mask)/len(tokenized_test.attention_mask))\n",
    "print(len(tokenized_test.attention_mask))\n",
    "values = [int(sum(l).numpy()) for l in tokenized_test.attention_mask]\n",
    "plt.hist(values, bins=50)\n",
    "plt.xlabel('length of data')\n",
    "plt.ylabel('number of data')\n",
    "plt.show()"
   ]
  },
  {
   "cell_type": "code",
   "execution_count": 21,
   "metadata": {},
   "outputs": [
    {
     "name": "stdout",
     "output_type": "stream",
     "text": [
      "총 문장 개수 : 7765\n",
      "[UNK] 토큰 개수 : 925\n",
      "전체 토큰 개수(PAD제외) : 428244\n",
      "[UNK] 비율 : 0.21599835607737644%\n"
     ]
    }
   ],
   "source": [
    "# test 데이터셋에서 UNK 토큰이 있나 확인함(0.2202%)\n",
    "print(f\"총 문장 개수 : {len(tokenized_test.input_ids)}\")\n",
    "cnt = sum(sum((tokenized_test.input_ids == 3))).numpy()\n",
    "total_words = sum(sum(tokenized_test.attention_mask)).numpy()\n",
    "\n",
    "print(f\"[UNK] 토큰 개수 : {cnt}\")\n",
    "print(f\"전체 토큰 개수(PAD제외) : {total_words}\")\n",
    "print(f\"[UNK] 비율 : {(cnt / total_words) * 100}%\")"
   ]
  },
  {
   "cell_type": "code",
   "execution_count": null,
   "metadata": {},
   "outputs": [],
   "source": [
    "문장에서 1번만 나온 단어는 지워버릴수 있음!!!\n",
    "데이터 전처리를 다시 한번 확인해봐야함, 토크나이저\n",
    "loss의 의미 KL Divergence 이해(면접단골)\n",
    "yaml 사용해보기"
   ]
  },
  {
   "cell_type": "code",
   "execution_count": null,
   "metadata": {},
   "outputs": [],
   "source": [
    "text = \"[SUBJ]이순신[/SUBJ]은 조선 중기의 [OBJ]무신[/OBJ]이다.\"\n",
    "tokenized_text = tokenizer.tokenize(text, add_special_tokens=True)"
   ]
  },
  {
   "cell_type": "code",
   "execution_count": null,
   "metadata": {},
   "outputs": [],
   "source": [
    "print(tokenized_text)"
   ]
  },
  {
   "cell_type": "code",
   "execution_count": null,
   "metadata": {},
   "outputs": [],
   "source": [
    "input_ids = tokenizer.encode(text, add_special_tokens=True)"
   ]
  },
  {
   "cell_type": "code",
   "execution_count": null,
   "metadata": {},
   "outputs": [],
   "source": [
    "print(input_ids)"
   ]
  },
  {
   "cell_type": "code",
   "execution_count": null,
   "metadata": {},
   "outputs": [],
   "source": [
    "decoded_ids = tokenizer.decode(input_ids)\n",
    "print(decoded_ids)\n",
    "decoded_ids = tokenizer.decode(input_ids,skip_special_tokens=True)\n",
    "print(decoded_ids)"
   ]
  },
  {
   "cell_type": "code",
   "execution_count": 3,
   "metadata": {},
   "outputs": [
    {
     "name": "stdout",
     "output_type": "stream",
     "text": [
      "Finished!\n"
     ]
    }
   ],
   "source": [
    "import re\n",
    "first = True\n",
    "alternate_delimiter = \"\\t\"\n",
    "new_file = open(\"./dataset/train/alternate_train.csv\", 'a')\n",
    "with open(\"./dataset/train/train.csv\", 'r') as f:\n",
    "    while True:\n",
    "        line = f.readline()\n",
    "        if first:\n",
    "            line = line.replace(\",\", alternate_delimiter)\n",
    "            first = False\n",
    "            new_file.write(line)\n",
    "            continue\n",
    "        if not line:\n",
    "            break\n",
    "        line = re.sub(',', alternate_delimiter, line, 1) # 처음 만나는 comma를 교체함(id)\n",
    "        for _ in range(2): # 맨 뒤에 2개의 comma를 교체함\n",
    "            comma_idx = line.rfind(',')\n",
    "            line = line[:comma_idx] + alternate_delimiter + line[comma_idx+1:]\n",
    "        line = re.sub(\",\\\"{'word':\", alternate_delimiter + \"\\\"{'word':\", line) # 나머지 중간의 2개의 comma를 교체함\n",
    "        new_file.write(line)\n",
    "\n",
    "new_file.close()\n",
    "print(\"Finished!\")"
   ]
  },
  {
   "cell_type": "code",
   "execution_count": 4,
   "metadata": {},
   "outputs": [
    {
     "name": "stdout",
     "output_type": "stream",
     "text": [
      "Finished!\n"
     ]
    }
   ],
   "source": [
    "import re\n",
    "first = True\n",
    "alternate_delimiter = \"\\t\"\n",
    "new_file = open(\"./dataset/test/alternate_test.csv\", 'a')\n",
    "with open(\"./dataset/test/test_data.csv\", 'r') as f:\n",
    "    while True:\n",
    "        line = f.readline()\n",
    "        if first:\n",
    "            line = line.replace(\",\", alternate_delimiter)\n",
    "            first = False\n",
    "            new_file.write(line)\n",
    "            continue\n",
    "        if not line:\n",
    "            break\n",
    "        line = re.sub(',', alternate_delimiter, line, 1) # 처음 만나는 comma를 교체함(id)\n",
    "        for _ in range(2): # 맨 뒤에 2개의 comma를 교체함\n",
    "            comma_idx = line.rfind(',')\n",
    "            line = line[:comma_idx] + alternate_delimiter + line[comma_idx+1:]\n",
    "        line = re.sub(\",\\\"{'word':\", alternate_delimiter + \"\\\"{'word':\", line) # 나머지 중간의 2개의 comma를 교체함\n",
    "        new_file.write(line)\n",
    "\n",
    "new_file.close()\n",
    "print(\"Finished!\")"
   ]
  },
  {
   "cell_type": "code",
   "execution_count": null,
   "metadata": {},
   "outputs": [],
   "source": []
  }
 ],
 "metadata": {
  "kernelspec": {
   "display_name": "Python 3 (ipykernel)",
   "language": "python",
   "name": "python3"
  },
  "language_info": {
   "codemirror_mode": {
    "name": "ipython",
    "version": 3
   },
   "file_extension": ".py",
   "mimetype": "text/x-python",
   "name": "python",
   "nbconvert_exporter": "python",
   "pygments_lexer": "ipython3",
   "version": "3.8.12"
  }
 },
 "nbformat": 4,
 "nbformat_minor": 2
}
