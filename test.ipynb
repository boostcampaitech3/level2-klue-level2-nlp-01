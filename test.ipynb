{
 "cells": [
  {
   "cell_type": "code",
   "execution_count": 1,
   "metadata": {},
   "outputs": [
    {
     "name": "stderr",
     "output_type": "stream",
     "text": [
      "/opt/conda/envs/klue/lib/python3.8/site-packages/tqdm/auto.py:22: TqdmWarning: IProgress not found. Please update jupyter and ipywidgets. See https://ipywidgets.readthedocs.io/en/stable/user_install.html\n",
      "  from .autonotebook import tqdm as notebook_tqdm\n"
     ]
    }
   ],
   "source": [
    "import pickle\n",
    "from utils import *\n",
    "from matplotlib import pyplot as plt\n",
    "from transformers import AutoTokenizer"
   ]
  },
  {
   "cell_type": "code",
   "execution_count": 2,
   "metadata": {},
   "outputs": [],
   "source": [
    "with open('dict_label_to_num.pkl', 'rb') as f:\n",
    "    dict_label_to_num = pickle.load(f)"
   ]
  },
  {
   "cell_type": "code",
   "execution_count": 3,
   "metadata": {},
   "outputs": [],
   "source": [
    "with open('dict_num_to_label.pkl', 'rb') as f:\n",
    "    dict_num_to_label = pickle.load(f)"
   ]
  },
  {
   "cell_type": "code",
   "execution_count": 4,
   "metadata": {},
   "outputs": [],
   "source": [
    "def label_to_num(label):\n",
    "  num_label = []\n",
    "  with open('dict_label_to_num.pkl', 'rb') as f:\n",
    "    dict_label_to_num = pickle.load(f)\n",
    "  for v in label:\n",
    "    num_label.append(dict_label_to_num[v])\n",
    "  \n",
    "  return num_label"
   ]
  },
  {
   "cell_type": "code",
   "execution_count": 5,
   "metadata": {},
   "outputs": [],
   "source": [
    "train_dataset = load_data(\"./dataset/train/alternate_train.csv\")\n",
    "train_label = label_to_num(train_dataset['label'].values)"
   ]
  },
  {
   "cell_type": "code",
   "execution_count": 13,
   "metadata": {},
   "outputs": [
    {
     "name": "stdout",
     "output_type": "stream",
     "text": [
      "비틀즈\n"
     ]
    }
   ],
   "source": [
    "span = train_dataset['subject_span'][0]\n",
    "print(train_dataset['sentence'][0][span[0]:span[1]+1])"
   ]
  },
  {
   "cell_type": "code",
   "execution_count": 14,
   "metadata": {},
   "outputs": [
    {
     "data": {
      "text/plain": [
       "'〈Something〉는 조지 해리슨이 쓰고 비틀즈가 1969년 앨범 《Abbey Road》에 담은 노래다.'"
      ]
     },
     "execution_count": 14,
     "metadata": {},
     "output_type": "execute_result"
    }
   ],
   "source": [
    "train_dataset['sentence'][0]"
   ]
  },
  {
   "cell_type": "code",
   "execution_count": 6,
   "metadata": {},
   "outputs": [
    {
     "name": "stdout",
     "output_type": "stream",
     "text": [
      "[0, 0, 0, 12, 46, 121, 292, 533, 696, 876, 1264, 1325, 1503, 1585, 1667, 1613, 1613, 1576, 1651, 1437, 1364, 1311, 1174, 1091, 999, 881, 750, 692, 636, 576, 491, 498, 409, 400, 352, 285, 277, 227, 213, 172, 175, 162, 150, 106, 103, 101, 105, 89, 83, 61, 65, 43, 50, 54, 43, 41, 35, 38, 29, 14, 22, 21, 23, 11, 15, 14, 17, 12, 8, 19, 4, 9, 12, 3, 7, 4, 8, 5, 2, 4, 3, 9, 2, 3, 7, 2, 5, 2, 2, 0, 0, 2, 2, 3, 0, 0, 1, 0, 1, 0, 0, 0, 1, 0, 0, 0, 1, 1, 1, 0]\n",
      "13249\n"
     ]
    }
   ],
   "source": [
    "counter = [0 for _ in range(110)]\n",
    "for sentence in train_dataset['sentence']:\n",
    "    words = sentence.split(' ')\n",
    "    words = [word for word in words if word != \"\"]\n",
    "    counter[len(words)] += 1\n",
    "print(counter)\n",
    "print(sum(counter[21:]))"
   ]
  },
  {
   "cell_type": "code",
   "execution_count": 11,
   "metadata": {},
   "outputs": [
    {
     "name": "stdout",
     "output_type": "stream",
     "text": [
      "tensor([    0, 32002, 12365,  2168, 32003,    12,   393,     3,     3,    16,\n",
      "        32008, 20533,  2440,    24,  2429,  4346,  2210, 32009,    12, 21553,\n",
      "           23,  2429,  3630,  2210,    13,    12, 21553,    23,  2429,  3630,\n",
      "         2210,    13,    97,  4877,  2440,  3718,  2429,    24,  2210,    13,\n",
      "          793,  3671, 27135,  7607,  4892,  2079, 10167,  6233,  6141,  6941,\n",
      "         3873,    16, 11114,  8219,   886,  2069, 10335,  2371,  2062,    18])\n",
      "tensor([0, 2, 2, 2, 2, 0, 0, 0, 0, 0, 5, 5, 5, 5, 5, 5, 5, 5, 0, 0, 0, 0, 0, 0,\n",
      "        0, 0, 0, 0, 0, 0, 0, 0, 0, 0, 0, 0, 0, 0, 0, 0, 0, 0, 0, 0, 0, 0, 0, 0,\n",
      "        0, 0, 0, 0, 0, 0, 0, 0, 0, 0, 0, 0])\n"
     ]
    }
   ],
   "source": [
    "print(RE_train_dataset[7]['input_ids'][:60])\n",
    "print(RE_train_dataset[7]['entity_ids'][:60])"
   ]
  },
  {
   "cell_type": "code",
   "execution_count": null,
   "metadata": {},
   "outputs": [],
   "source": [
    "from collections import Counter\n",
    "counter = Counter()\n",
    "for tokenized_sentence in tokenized_train.input_ids:\n",
    "    counter.update(tokenized_sentence.numpy())"
   ]
  },
  {
   "cell_type": "code",
   "execution_count": null,
   "metadata": {},
   "outputs": [],
   "source": [
    "print(counter)"
   ]
  },
  {
   "cell_type": "code",
   "execution_count": null,
   "metadata": {},
   "outputs": [
    {
     "name": "stdout",
     "output_type": "stream",
     "text": [
      "토큰화된 학습 문장 최대 길이 : 235\n",
      "토큰화된 학습 문장의 평균 길이 : 56.90757622420696\n",
      "32470\n"
     ]
    },
    {
     "data": {
      "image/png": "[encoded data removed]",
      "text/plain": [
       "<Figure size 432x288 with 1 Axes>"
      ]
     },
     "metadata": {
      "needs_background": "light"
     },
     "output_type": "display_data"
    }
   ],
   "source": [
    "#토큰화된 학습 문장의 길이조사\n",
    "print('토큰화된 학습 문장 최대 길이 :',max(sum(l).numpy() for l in tokenized_train.attention_mask))\n",
    "print('토큰화된 학습 문장의 평균 길이 :',sum(sum(l).numpy() for l in tokenized_train.attention_mask)/len(tokenized_train.attention_mask))\n",
    "print(len(tokenized_train.attention_mask))\n",
    "values = [int(sum(l).numpy()) for l in tokenized_train.attention_mask]\n",
    "plt.hist(values, bins=50)\n",
    "plt.xlabel('length of data')\n",
    "plt.ylabel('number of data')\n",
    "plt.show()"
   ]
  },
  {
   "cell_type": "code",
   "execution_count": null,
   "metadata": {},
   "outputs": [
    {
     "name": "stdout",
     "output_type": "stream",
     "text": [
      "총 문장 개수 : 32470\n",
      "[UNK] 토큰 개수 : 6315\n",
      "전체 토큰 개수(PAD제외) : 1847789\n",
      "[UNK] 비율 : 0.34175980049670174%\n"
     ]
    }
   ],
   "source": [
    "# train 데이터셋에서 UNK 토큰이 있나 확인함(0.3317%)\n",
    "print(f\"총 문장 개수 : {len(tokenized_train.input_ids)}\")\n",
    "cnt = sum(sum((tokenized_train.input_ids == 3))).numpy()\n",
    "total_words = sum(sum(tokenized_train.attention_mask)).numpy()\n",
    "\n",
    "print(f\"[UNK] 토큰 개수 : {cnt}\")\n",
    "print(f\"전체 토큰 개수(PAD제외) : {total_words}\")\n",
    "print(f\"[UNK] 비율 : {cnt / total_words * 100}%\")"
   ]
  },
  {
   "cell_type": "code",
   "execution_count": null,
   "metadata": {},
   "outputs": [],
   "source": [
    "test_dataset = load_data(\"./dataset/test/alternate_test.csv\")\n",
    "tokenized_test = tokenized_dataset(test_dataset, tokenizer)"
   ]
  },
  {
   "cell_type": "code",
   "execution_count": null,
   "metadata": {},
   "outputs": [
    {
     "data": {
      "text/plain": [
       "array(['no_relation', 'no_relation', 'org:member_of', ...,\n",
       "       'org:top_members/employees', 'no_relation',\n",
       "       'org:top_members/employees'], dtype=object)"
      ]
     },
     "execution_count": 35,
     "metadata": {},
     "output_type": "execute_result"
    }
   ],
   "source": [
    "train_dataset['label'].values"
   ]
  },
  {
   "cell_type": "code",
   "execution_count": null,
   "metadata": {},
   "outputs": [
    {
     "data": {
      "text/plain": [
       "\"지난 15일 MBC'탐사기획 스트레이트'가 이 사실을 보도했다.\""
      ]
     },
     "execution_count": 30,
     "metadata": {},
     "output_type": "execute_result"
    }
   ],
   "source": [
    "tokenizer.decode(tokenized_test.input_ids[0], skip_special_tokens=True)"
   ]
  },
  {
   "cell_type": "code",
   "execution_count": null,
   "metadata": {},
   "outputs": [
    {
     "data": {
      "text/plain": [
       "100"
      ]
     },
     "execution_count": 33,
     "metadata": {},
     "output_type": "execute_result"
    }
   ],
   "source": [
    "test_dataset.label[0]"
   ]
  },
  {
   "cell_type": "code",
   "execution_count": null,
   "metadata": {},
   "outputs": [
    {
     "name": "stdout",
     "output_type": "stream",
     "text": [
      "   id                                           sentence subject_entity  \\\n",
      "0   0               지난 15일 MBC '탐사기획 스트레이트'가 이 사실을 보도했다.            MBC   \n",
      "1   1  사랑스러운 ‘프린세스 프링’의 이름은 봄의 공주님: Princess(s)Pring이...        프린세스 프링   \n",
      "2   2  한편, 본인(이근안)을 모델로 한 MBC 특집드라마 가 1995년 6.25 특집극으...             경찰   \n",
      "3   3  정창손은 김질과 같이 대궐로 달려가 고변하며 '신은 실로 모르고 김질만 혼자 참여하...             세조   \n",
      "4   4  당시 민주당 이진련 시의원은 권영진 시장에게 \"긴급 생계자금을 왜 현금으로 지원하지...            민주당   \n",
      "5   5  미국은 필리핀 측에서는 동맹이 아니라 지배자가 되었다고 볼 수 있기 때문에, 필리핀...            필리핀   \n",
      "6   6  한국당 전희경 대변인은 이날 정 총리 후보자 지명 직후 논평을 내고 \"의회를 시녀화...            전희경   \n",
      "7   7  문재인 대통령 부인 김정숙 여사는 22일부터 1박2일 일정으로 광주를 방문해 경기를...            문재인   \n",
      "8   8  조선민주주의인민공화국 관할 지역은 개풍군 영북면 월고리 및 연천군 서남면 지역을 합...    조선민주주의인민공화국   \n",
      "9   9         소련군에서 그의 이름도 중국식의 진지첸으로 조선인으로서의 정체성도 희박했다.            소련군   \n",
      "\n",
      "  object_entity subject_span object_span  label  \n",
      "0    탐사기획 스트레이트       (7, 9)    (12, 21)    100  \n",
      "1            공주      (7, 13)    (84, 85)    100  \n",
      "2         1995년   (121, 122)    (31, 35)    100  \n",
      "3           정창손     (78, 79)      (0, 2)    100  \n",
      "4           권영진       (3, 5)    (16, 18)    100  \n",
      "5            미국       (4, 6)      (0, 1)    100  \n",
      "6           한국당       (4, 6)      (0, 2)    100  \n",
      "7           김정숙       (0, 2)    (11, 13)    100  \n",
      "8           개풍군      (0, 10)    (19, 21)    100  \n",
      "9           진지첸       (0, 2)    (18, 20)    100  \n"
     ]
    }
   ],
   "source": [
    "print(test_dataset[:10])"
   ]
  },
  {
   "cell_type": "code",
   "execution_count": null,
   "metadata": {},
   "outputs": [
    {
     "name": "stdout",
     "output_type": "stream",
     "text": [
      "토큰화된 테스트 문장 최대 길이 : 227\n",
      "토큰화된 테스트 문장의 평균 길이 : 55.15054732775274\n",
      "7765\n"
     ]
    },
    {
     "data": {
      "image/png": "[encoded data removed]",
      "text/plain": [
       "<Figure size 432x288 with 1 Axes>"
      ]
     },
     "metadata": {
      "needs_background": "light"
     },
     "output_type": "display_data"
    }
   ],
   "source": [
    "#토큰화된 테스트 문장의 길이조사\n",
    "print('토큰화된 테스트 문장 최대 길이 :',max(sum(l).numpy() for l in tokenized_test.attention_mask))\n",
    "print('토큰화된 테스트 문장의 평균 길이 :',sum(sum(l).numpy() for l in tokenized_test.attention_mask)/len(tokenized_test.attention_mask))\n",
    "print(len(tokenized_test.attention_mask))\n",
    "values = [int(sum(l).numpy()) for l in tokenized_test.attention_mask]\n",
    "plt.hist(values, bins=50)\n",
    "plt.xlabel('length of data')\n",
    "plt.ylabel('number of data')\n",
    "plt.show()"
   ]
  },
  {
   "cell_type": "code",
   "execution_count": null,
   "metadata": {},
   "outputs": [
    {
     "name": "stdout",
     "output_type": "stream",
     "text": [
      "총 문장 개수 : 7765\n",
      "[UNK] 토큰 개수 : 925\n",
      "전체 토큰 개수(PAD제외) : 428244\n",
      "[UNK] 비율 : 0.21599835607737644%\n"
     ]
    }
   ],
   "source": [
    "# test 데이터셋에서 UNK 토큰이 있나 확인함(0.2202%)\n",
    "print(f\"총 문장 개수 : {len(tokenized_test.input_ids)}\")\n",
    "cnt = sum(sum((tokenized_test.input_ids == 3))).numpy()\n",
    "total_words = sum(sum(tokenized_test.attention_mask)).numpy()\n",
    "\n",
    "print(f\"[UNK] 토큰 개수 : {cnt}\")\n",
    "print(f\"전체 토큰 개수(PAD제외) : {total_words}\")\n",
    "print(f\"[UNK] 비율 : {(cnt / total_words) * 100}%\")"
   ]
  },
  {
   "cell_type": "code",
   "execution_count": null,
   "metadata": {},
   "outputs": [],
   "source": [
    "문장에서 1번만 나온 단어는 지워버릴수 있음!!!\n",
    "데이터 전처리를 다시 한번 확인해봐야함, 토크나이저\n",
    "loss의 의미 KL Divergence 이해(면접단골)\n",
    "yaml 사용해보기"
   ]
  },
  {
   "cell_type": "code",
   "execution_count": null,
   "metadata": {},
   "outputs": [],
   "source": [
    "text = \"[SUBJ]이순신[/SUBJ]은 조선 중기의 [OBJ]무신[/OBJ]이다.\"\n",
    "tokenized_text = tokenizer.tokenize(text, add_special_tokens=True)"
   ]
  },
  {
   "cell_type": "code",
   "execution_count": null,
   "metadata": {},
   "outputs": [],
   "source": [
    "print(tokenized_text)"
   ]
  },
  {
   "cell_type": "code",
   "execution_count": null,
   "metadata": {},
   "outputs": [],
   "source": [
    "input_ids = tokenizer.encode(text, add_special_tokens=True)"
   ]
  },
  {
   "cell_type": "code",
   "execution_count": null,
   "metadata": {},
   "outputs": [],
   "source": [
    "print(input_ids)"
   ]
  },
  {
   "cell_type": "code",
   "execution_count": null,
   "metadata": {},
   "outputs": [],
   "source": [
    "decoded_ids = tokenizer.decode(input_ids)\n",
    "print(decoded_ids)\n",
    "decoded_ids = tokenizer.decode(input_ids,skip_special_tokens=True)\n",
    "print(decoded_ids)"
   ]
  },
  {
   "cell_type": "code",
   "execution_count": 6,
   "metadata": {},
   "outputs": [],
   "source": [
    "test_dataset = load_data('./dataset/test/alternate_test.csv')"
   ]
  },
  {
   "cell_type": "code",
   "execution_count": 11,
   "metadata": {},
   "outputs": [
    {
     "data": {
      "text/html": [
       "<div>\n",
       "<style scoped>\n",
       "    .dataframe tbody tr th:only-of-type {\n",
       "        vertical-align: middle;\n",
       "    }\n",
       "\n",
       "    .dataframe tbody tr th {\n",
       "        vertical-align: top;\n",
       "    }\n",
       "\n",
       "    .dataframe thead th {\n",
       "        text-align: right;\n",
       "    }\n",
       "</style>\n",
       "<table border=\"1\" class=\"dataframe\">\n",
       "  <thead>\n",
       "    <tr style=\"text-align: right;\">\n",
       "      <th></th>\n",
       "      <th>id</th>\n",
       "      <th>sentence</th>\n",
       "      <th>subject_entity</th>\n",
       "      <th>object_entity</th>\n",
       "      <th>subject_span</th>\n",
       "      <th>object_span</th>\n",
       "      <th>label</th>\n",
       "      <th>subject_tag</th>\n",
       "      <th>object_tag</th>\n",
       "    </tr>\n",
       "  </thead>\n",
       "  <tbody>\n",
       "    <tr>\n",
       "      <th>6820</th>\n",
       "      <td>6820</td>\n",
       "      <td>1875년 시카고 빈민가에 교회를 설립했는데, 구두판매원출신다운 쉽고 설득력있는 무...</td>\n",
       "      <td>시카고</td>\n",
       "      <td>1875년</td>\n",
       "      <td>(6, 8)</td>\n",
       "      <td>(0, 4)</td>\n",
       "      <td>100</td>\n",
       "      <td>LOC</td>\n",
       "      <td>DAT</td>\n",
       "    </tr>\n",
       "  </tbody>\n",
       "</table>\n",
       "</div>"
      ],
      "text/plain": [
       "        id                                           sentence subject_entity  \\\n",
       "6820  6820  1875년 시카고 빈민가에 교회를 설립했는데, 구두판매원출신다운 쉽고 설득력있는 무...            시카고   \n",
       "\n",
       "     object_entity subject_span object_span  label subject_tag object_tag  \n",
       "6820         1875년       (6, 8)      (0, 4)    100         LOC        DAT  "
      ]
     },
     "execution_count": 11,
     "metadata": {},
     "output_type": "execute_result"
    }
   ],
   "source": [
    "test_dataset.loc[test_dataset['subject_tag'] == 'LOC']"
   ]
  },
  {
   "cell_type": "code",
   "execution_count": 6,
   "metadata": {},
   "outputs": [],
   "source": [
    "import pickle\n",
    "with open('augmented.pkl', 'rb') as f:\n",
    "    augmented_sentences = pickle.load(f)"
   ]
  },
  {
   "cell_type": "code",
   "execution_count": 9,
   "metadata": {},
   "outputs": [
    {
     "name": "stdout",
     "output_type": "stream",
     "text": [
      "14613\n"
     ]
    }
   ],
   "source": [
    "print(len(augmented_sentences))"
   ]
  },
  {
   "cell_type": "code",
   "execution_count": 12,
   "metadata": {},
   "outputs": [
    {
     "name": "stdout",
     "output_type": "stream",
     "text": [
      "(['FC 인테르나치오날레 밀라노, 유벤투스 FC와 함께 이탈리아를 대표하는 전통 명문 클럽으로, 2009년 현재까지 세리에 A에서 18회 이탈리아에서 유벤투스 FC 많은 리그 우승 기록을 인테르와 동률을 이루고 있다.', 'FC 인테르나치오날레 밀라노, 유벤투스 FC와 함께 이탈리아를 리그 전통 명문 클럽으로, 2009년 현재까지 세리에 A에서 18회 우승하여 이탈리아에서 유벤투스 FC 다음으로 가지고 대표하는 우승 기록을 많은 있고, 인테르와 동률을 이루고 있다.', 'FC 인테르나치오날레 밀라노, 유벤투스 FC와 함께 이탈리아를 대표하는 전통 명문 클럽으로, 2009년 현재까지 세리에 A에서 18회 우승하여 이탈리아에서 동률을 FC 다음으로 많은 이루고 우승 기록을 가지고 있고, 인테르와 유벤투스 리그 있다.', 'FC 인테르나치오날레 밀라노, 유벤투스 FC와 이탈리아를 대표하는 전통 명문 클럽으로, 2009년 현재까지 세리에 A에서 18회 우승하여 이탈리아에서 유벤투스 FC 다음으로 많은 리그 우승 기록을 가지고 있고, 인테르와 동률을 이루고 있다.', 'FC 인테르나치오날레 밀라노, 유벤투스 FC와 함께 이탈리아를 대표하는 전통 명문 클럽으로, 2009년 현재까지 세리에 A에서 18회 우승하여 이탈리아에서 유벤투스 기록을 다음으로 많은 리그 우승 동률을 가지고 있고, 인테르와 FC 이루고 있다.'], 'FC 인테르나치오날레 밀라노', '세리에 A')\n"
     ]
    }
   ],
   "source": [
    "print(augmented_sentences[300])"
   ]
  },
  {
   "cell_type": "code",
   "execution_count": 1,
   "metadata": {},
   "outputs": [
    {
     "name": "stderr",
     "output_type": "stream",
     "text": [
      "\n",
      "\n",
      "====== WebDriver manager ======\n",
      "Could not get version for google-chrome.Is google-chrome installed?\n",
      "Get LATEST chromedriver version for None google-chrome\n",
      "There is no [linux64] chromedriver for browser None in cache\n",
      "Trying to download new driver from https://chromedriver.storage.googleapis.com/100.0.4896.60/chromedriver_linux64.zip\n",
      "Driver has been saved in cache [/opt/ml/.wdm/drivers/chromedriver/linux64/100.0.4896.60]\n",
      "/tmp/ipykernel_1542/1445477574.py:4: DeprecationWarning: executable_path has been deprecated, please pass in a Service object\n",
      "  driver = webdriver.Chrome(ChromeDriverManager().install())\n"
     ]
    },
    {
     "ename": "WebDriverException",
     "evalue": "Message: Service /opt/ml/.wdm/drivers/chromedriver/linux64/100.0.4896.60/chromedriver unexpectedly exited. Status code was: 127\n",
     "output_type": "error",
     "traceback": [
      "\u001b[0;31m---------------------------------------------------------------------------\u001b[0m",
      "\u001b[0;31mWebDriverException\u001b[0m                        Traceback (most recent call last)",
      "\u001b[1;32m/opt/ml/code/level2-klue-level2-nlp-01/test.ipynb Cell 32'\u001b[0m in \u001b[0;36m<cell line: 4>\u001b[0;34m()\u001b[0m\n\u001b[1;32m      <a href='vscode-notebook-cell://ssh-remote%2B7b22686f73744e616d65223a224b4c5545227d/opt/ml/code/level2-klue-level2-nlp-01/test.ipynb#ch0000031vscode-remote?line=1'>2</a>\u001b[0m \u001b[39mfrom\u001b[39;00m \u001b[39mwebdriver_manager\u001b[39;00m\u001b[39m.\u001b[39;00m\u001b[39mchrome\u001b[39;00m \u001b[39mimport\u001b[39;00m ChromeDriverManager\n\u001b[1;32m      <a href='vscode-notebook-cell://ssh-remote%2B7b22686f73744e616d65223a224b4c5545227d/opt/ml/code/level2-klue-level2-nlp-01/test.ipynb#ch0000031vscode-remote?line=2'>3</a>\u001b[0m \u001b[39mimport\u001b[39;00m \u001b[39mtime\u001b[39;00m\n\u001b[0;32m----> <a href='vscode-notebook-cell://ssh-remote%2B7b22686f73744e616d65223a224b4c5545227d/opt/ml/code/level2-klue-level2-nlp-01/test.ipynb#ch0000031vscode-remote?line=3'>4</a>\u001b[0m driver \u001b[39m=\u001b[39m webdriver\u001b[39m.\u001b[39;49mChrome(ChromeDriverManager()\u001b[39m.\u001b[39;49minstall())\n\u001b[1;32m      <a href='vscode-notebook-cell://ssh-remote%2B7b22686f73744e616d65223a224b4c5545227d/opt/ml/code/level2-klue-level2-nlp-01/test.ipynb#ch0000031vscode-remote?line=4'>5</a>\u001b[0m driver\u001b[39m.\u001b[39mget(\u001b[39m\"\u001b[39m\u001b[39mhttps://papago.naver.com\u001b[39m\u001b[39m\"\u001b[39m)\n\u001b[1;32m      <a href='vscode-notebook-cell://ssh-remote%2B7b22686f73744e616d65223a224b4c5545227d/opt/ml/code/level2-klue-level2-nlp-01/test.ipynb#ch0000031vscode-remote?line=5'>6</a>\u001b[0m time\u001b[39m.\u001b[39msleep(\u001b[39m0.5\u001b[39m)\n",
      "File \u001b[0;32m/opt/conda/envs/klue/lib/python3.8/site-packages/selenium/webdriver/chrome/webdriver.py:70\u001b[0m, in \u001b[0;36mWebDriver.__init__\u001b[0;34m(self, executable_path, port, options, service_args, desired_capabilities, service_log_path, chrome_options, service, keep_alive)\u001b[0m\n\u001b[1;32m     <a href='file:///opt/conda/envs/klue/lib/python3.8/site-packages/selenium/webdriver/chrome/webdriver.py?line=66'>67</a>\u001b[0m \u001b[39mif\u001b[39;00m \u001b[39mnot\u001b[39;00m service:\n\u001b[1;32m     <a href='file:///opt/conda/envs/klue/lib/python3.8/site-packages/selenium/webdriver/chrome/webdriver.py?line=67'>68</a>\u001b[0m     service \u001b[39m=\u001b[39m Service(executable_path, port, service_args, service_log_path)\n\u001b[0;32m---> <a href='file:///opt/conda/envs/klue/lib/python3.8/site-packages/selenium/webdriver/chrome/webdriver.py?line=69'>70</a>\u001b[0m \u001b[39msuper\u001b[39;49m(WebDriver, \u001b[39mself\u001b[39;49m)\u001b[39m.\u001b[39;49m\u001b[39m__init__\u001b[39;49m(DesiredCapabilities\u001b[39m.\u001b[39;49mCHROME[\u001b[39m'\u001b[39;49m\u001b[39mbrowserName\u001b[39;49m\u001b[39m'\u001b[39;49m], \u001b[39m\"\u001b[39;49m\u001b[39mgoog\u001b[39;49m\u001b[39m\"\u001b[39;49m,\n\u001b[1;32m     <a href='file:///opt/conda/envs/klue/lib/python3.8/site-packages/selenium/webdriver/chrome/webdriver.py?line=70'>71</a>\u001b[0m                                 port, options,\n\u001b[1;32m     <a href='file:///opt/conda/envs/klue/lib/python3.8/site-packages/selenium/webdriver/chrome/webdriver.py?line=71'>72</a>\u001b[0m                                 service_args, desired_capabilities,\n\u001b[1;32m     <a href='file:///opt/conda/envs/klue/lib/python3.8/site-packages/selenium/webdriver/chrome/webdriver.py?line=72'>73</a>\u001b[0m                                 service_log_path, service, keep_alive)\n",
      "File \u001b[0;32m/opt/conda/envs/klue/lib/python3.8/site-packages/selenium/webdriver/chromium/webdriver.py:90\u001b[0m, in \u001b[0;36mChromiumDriver.__init__\u001b[0;34m(self, browser_name, vendor_prefix, port, options, service_args, desired_capabilities, service_log_path, service, keep_alive)\u001b[0m\n\u001b[1;32m     <a href='file:///opt/conda/envs/klue/lib/python3.8/site-packages/selenium/webdriver/chromium/webdriver.py?line=86'>87</a>\u001b[0m     \u001b[39mraise\u001b[39;00m \u001b[39mAttributeError\u001b[39;00m(\u001b[39m'\u001b[39m\u001b[39mservice cannot be None\u001b[39m\u001b[39m'\u001b[39m)\n\u001b[1;32m     <a href='file:///opt/conda/envs/klue/lib/python3.8/site-packages/selenium/webdriver/chromium/webdriver.py?line=88'>89</a>\u001b[0m \u001b[39mself\u001b[39m\u001b[39m.\u001b[39mservice \u001b[39m=\u001b[39m service\n\u001b[0;32m---> <a href='file:///opt/conda/envs/klue/lib/python3.8/site-packages/selenium/webdriver/chromium/webdriver.py?line=89'>90</a>\u001b[0m \u001b[39mself\u001b[39;49m\u001b[39m.\u001b[39;49mservice\u001b[39m.\u001b[39;49mstart()\n\u001b[1;32m     <a href='file:///opt/conda/envs/klue/lib/python3.8/site-packages/selenium/webdriver/chromium/webdriver.py?line=91'>92</a>\u001b[0m \u001b[39mtry\u001b[39;00m:\n\u001b[1;32m     <a href='file:///opt/conda/envs/klue/lib/python3.8/site-packages/selenium/webdriver/chromium/webdriver.py?line=92'>93</a>\u001b[0m     RemoteWebDriver\u001b[39m.\u001b[39m\u001b[39m__init__\u001b[39m(\n\u001b[1;32m     <a href='file:///opt/conda/envs/klue/lib/python3.8/site-packages/selenium/webdriver/chromium/webdriver.py?line=93'>94</a>\u001b[0m         \u001b[39mself\u001b[39m,\n\u001b[1;32m     <a href='file:///opt/conda/envs/klue/lib/python3.8/site-packages/selenium/webdriver/chromium/webdriver.py?line=94'>95</a>\u001b[0m         command_executor\u001b[39m=\u001b[39mChromiumRemoteConnection(\n\u001b[0;32m   (...)\u001b[0m\n\u001b[1;32m     <a href='file:///opt/conda/envs/klue/lib/python3.8/site-packages/selenium/webdriver/chromium/webdriver.py?line=97'>98</a>\u001b[0m             keep_alive\u001b[39m=\u001b[39mkeep_alive, ignore_proxy\u001b[39m=\u001b[39m_ignore_proxy),\n\u001b[1;32m     <a href='file:///opt/conda/envs/klue/lib/python3.8/site-packages/selenium/webdriver/chromium/webdriver.py?line=98'>99</a>\u001b[0m         options\u001b[39m=\u001b[39moptions)\n",
      "File \u001b[0;32m/opt/conda/envs/klue/lib/python3.8/site-packages/selenium/webdriver/common/service.py:98\u001b[0m, in \u001b[0;36mService.start\u001b[0;34m(self)\u001b[0m\n\u001b[1;32m     <a href='file:///opt/conda/envs/klue/lib/python3.8/site-packages/selenium/webdriver/common/service.py?line=95'>96</a>\u001b[0m count \u001b[39m=\u001b[39m \u001b[39m0\u001b[39m\n\u001b[1;32m     <a href='file:///opt/conda/envs/klue/lib/python3.8/site-packages/selenium/webdriver/common/service.py?line=96'>97</a>\u001b[0m \u001b[39mwhile\u001b[39;00m \u001b[39mTrue\u001b[39;00m:\n\u001b[0;32m---> <a href='file:///opt/conda/envs/klue/lib/python3.8/site-packages/selenium/webdriver/common/service.py?line=97'>98</a>\u001b[0m     \u001b[39mself\u001b[39;49m\u001b[39m.\u001b[39;49massert_process_still_running()\n\u001b[1;32m     <a href='file:///opt/conda/envs/klue/lib/python3.8/site-packages/selenium/webdriver/common/service.py?line=98'>99</a>\u001b[0m     \u001b[39mif\u001b[39;00m \u001b[39mself\u001b[39m\u001b[39m.\u001b[39mis_connectable():\n\u001b[1;32m    <a href='file:///opt/conda/envs/klue/lib/python3.8/site-packages/selenium/webdriver/common/service.py?line=99'>100</a>\u001b[0m         \u001b[39mbreak\u001b[39;00m\n",
      "File \u001b[0;32m/opt/conda/envs/klue/lib/python3.8/site-packages/selenium/webdriver/common/service.py:110\u001b[0m, in \u001b[0;36mService.assert_process_still_running\u001b[0;34m(self)\u001b[0m\n\u001b[1;32m    <a href='file:///opt/conda/envs/klue/lib/python3.8/site-packages/selenium/webdriver/common/service.py?line=107'>108</a>\u001b[0m return_code \u001b[39m=\u001b[39m \u001b[39mself\u001b[39m\u001b[39m.\u001b[39mprocess\u001b[39m.\u001b[39mpoll()\n\u001b[1;32m    <a href='file:///opt/conda/envs/klue/lib/python3.8/site-packages/selenium/webdriver/common/service.py?line=108'>109</a>\u001b[0m \u001b[39mif\u001b[39;00m return_code:\n\u001b[0;32m--> <a href='file:///opt/conda/envs/klue/lib/python3.8/site-packages/selenium/webdriver/common/service.py?line=109'>110</a>\u001b[0m     \u001b[39mraise\u001b[39;00m WebDriverException(\n\u001b[1;32m    <a href='file:///opt/conda/envs/klue/lib/python3.8/site-packages/selenium/webdriver/common/service.py?line=110'>111</a>\u001b[0m         \u001b[39m'\u001b[39m\u001b[39mService \u001b[39m\u001b[39m%s\u001b[39;00m\u001b[39m unexpectedly exited. Status code was: \u001b[39m\u001b[39m%s\u001b[39;00m\u001b[39m'\u001b[39m\n\u001b[1;32m    <a href='file:///opt/conda/envs/klue/lib/python3.8/site-packages/selenium/webdriver/common/service.py?line=111'>112</a>\u001b[0m         \u001b[39m%\u001b[39m (\u001b[39mself\u001b[39m\u001b[39m.\u001b[39mpath, return_code)\n\u001b[1;32m    <a href='file:///opt/conda/envs/klue/lib/python3.8/site-packages/selenium/webdriver/common/service.py?line=112'>113</a>\u001b[0m     )\n",
      "\u001b[0;31mWebDriverException\u001b[0m: Message: Service /opt/ml/.wdm/drivers/chromedriver/linux64/100.0.4896.60/chromedriver unexpectedly exited. Status code was: 127\n"
     ]
    }
   ],
   "source": [
    "from selenium import webdriver\n",
    "from webdriver_manager.chrome import ChromeDriverManager\n",
    "from webdriver_manager.utils import ChromeType\n",
    "import time\n",
    "driver = webdriver.Chrome(ChromeDriverManager(chrome_type=ChromeType.CHROMIUM).install())\n",
    "driver.get(\"https://papago.naver.com\")\n",
    "time.sleep(0.5)\n",
    "input_box = driver.find_element_by_css_selector(\"textarea#txtSource\")\n",
    "input_box.send_keys(\"seize the day\")\n",
    "button = driver.find_element_by_css_selector(\"button#btnTranslate\")\n",
    "button.click()\n",
    "time.sleep(0.5)\n",
    "result = driver.find_element_by_css_selector(\"div#txtTarget\").text\n",
    "print(result)\n",
    "driver.close()"
   ]
  },
  {
   "cell_type": "code",
   "execution_count": null,
   "metadata": {},
   "outputs": [],
   "source": []
  }
 ],
 "metadata": {
  "kernelspec": {
   "display_name": "Python 3 (ipykernel)",
   "language": "python",
   "name": "python3"
  },
  "language_info": {
   "codemirror_mode": {
    "name": "ipython",
    "version": 3
   },
   "file_extension": ".py",
   "mimetype": "text/x-python",
   "name": "python",
   "nbconvert_exporter": "python",
   "pygments_lexer": "ipython3",
   "version": "3.8.12"
  }
 },
 "nbformat": 4,
 "nbformat_minor": 2
}
