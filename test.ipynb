{
 "cells": [
  {
   "cell_type": "code",
   "execution_count": 1,
   "metadata": {},
   "outputs": [
    {
     "name": "stderr",
     "output_type": "stream",
     "text": [
      "/opt/conda/envs/klue/lib/python3.8/site-packages/tqdm/auto.py:22: TqdmWarning: IProgress not found. Please update jupyter and ipywidgets. See https://ipywidgets.readthedocs.io/en/stable/user_install.html\n",
      "  from .autonotebook import tqdm as notebook_tqdm\n"
     ]
    }
   ],
   "source": [
    "import pickle\n",
    "from load_data import *\n",
    "from matplotlib import pyplot as plt\n",
    "from transformers import AutoTokenizer"
   ]
  },
  {
   "cell_type": "code",
   "execution_count": 2,
   "metadata": {},
   "outputs": [],
   "source": [
    "with open('dict_label_to_num.pkl', 'rb') as f:\n",
    "    dict_label_to_num = pickle.load(f)"
   ]
  },
  {
   "cell_type": "code",
   "execution_count": 3,
   "metadata": {},
   "outputs": [
    {
     "name": "stdout",
     "output_type": "stream",
     "text": [
      "{'no_relation': 0, 'org:top_members/employees': 1, 'org:members': 2, 'org:product': 3, 'per:title': 4, 'org:alternate_names': 5, 'per:employee_of': 6, 'org:place_of_headquarters': 7, 'per:product': 8, 'org:number_of_employees/members': 9, 'per:children': 10, 'per:place_of_residence': 11, 'per:alternate_names': 12, 'per:other_family': 13, 'per:colleagues': 14, 'per:origin': 15, 'per:siblings': 16, 'per:spouse': 17, 'org:founded': 18, 'org:political/religious_affiliation': 19, 'org:member_of': 20, 'per:parents': 21, 'org:dissolved': 22, 'per:schools_attended': 23, 'per:date_of_death': 24, 'per:date_of_birth': 25, 'per:place_of_birth': 26, 'per:place_of_death': 27, 'org:founded_by': 28, 'per:religion': 29}\n"
     ]
    }
   ],
   "source": [
    "print(dict_label_to_num)"
   ]
  },
  {
   "cell_type": "code",
   "execution_count": 4,
   "metadata": {},
   "outputs": [],
   "source": [
    "with open('dict_num_to_label.pkl', 'rb') as f:\n",
    "    dict_num_to_label = pickle.load(f)"
   ]
  },
  {
   "cell_type": "code",
   "execution_count": 5,
   "metadata": {},
   "outputs": [
    {
     "name": "stdout",
     "output_type": "stream",
     "text": [
      "{0: 'no_relation', 1: 'org:top_members/employees', 2: 'org:members', 3: 'org:product', 4: 'per:title', 5: 'org:alternate_names', 6: 'per:employee_of', 7: 'org:place_of_headquarters', 8: 'per:product', 9: 'org:number_of_employees/members', 10: 'per:children', 11: 'per:place_of_residence', 12: 'per:alternate_names', 13: 'per:other_family', 14: 'per:colleagues', 15: 'per:origin', 16: 'per:siblings', 17: 'per:spouse', 18: 'org:founded', 19: 'org:political/religious_affiliation', 20: 'org:member_of', 21: 'per:parents', 22: 'org:dissolved', 23: 'per:schools_attended', 24: 'per:date_of_death', 25: 'per:date_of_birth', 26: 'per:place_of_birth', 27: 'per:place_of_death', 28: 'org:founded_by', 29: 'per:religion'}\n"
     ]
    }
   ],
   "source": [
    "print(dict_num_to_label)"
   ]
  },
  {
   "cell_type": "code",
   "execution_count": 6,
   "metadata": {},
   "outputs": [],
   "source": [
    "def label_to_num(label):\n",
    "  num_label = []\n",
    "  with open('dict_label_to_num.pkl', 'rb') as f:\n",
    "    dict_label_to_num = pickle.load(f)\n",
    "  for v in label:\n",
    "    num_label.append(dict_label_to_num[v])\n",
    "  \n",
    "  return num_label"
   ]
  },
  {
   "cell_type": "code",
   "execution_count": 7,
   "metadata": {},
   "outputs": [],
   "source": [
    "train_dataset = load_data(\"../dataset/train/train.csv\")\n",
    "train_label = label_to_num(train_dataset['label'].values)"
   ]
  },
  {
   "cell_type": "code",
   "execution_count": 8,
   "metadata": {},
   "outputs": [
    {
     "name": "stdout",
     "output_type": "stream",
     "text": [
      "   id                                           sentence subject_entity  \\\n",
      "0   0  〈Something〉는 조지 해리슨이 쓰고 비틀즈가 1969년 앨범 《Abbey R...          '비틀즈'   \n",
      "1   1  호남이 기반인 바른미래당·대안신당·민주평화당이 우여곡절 끝에 합당해 민생당(가칭)으...        '민주평화당'   \n",
      "2   2  K리그2에서 성적 1위를 달리고 있는 광주FC는 지난 26일 한국프로축구연맹으로부터...         '광주FC'   \n",
      "3   3  균일가 생활용품점 (주)아성다이소(대표 박정부)는 코로나19 바이러스로 어려움을 겪...        '아성다이소'   \n",
      "4   4  1967년 프로 야구 드래프트 1순위로 요미우리 자이언츠에게 입단하면서 등번호는 8...    '요미우리 자이언츠'   \n",
      "5   5  : 유엔, 유럽 의회, 북대서양 조약 기구 (NATO), 국제이주기구, 세계 보건 ...   '북대서양 조약 기구'   \n",
      "6   6  그에 따라 나폴리와 계약을 연장한 마라도나는 1989년 팀을 UEFA컵 정상으로 인...        'AC 밀란'   \n",
      "7   7  박용오(朴容旿, 1937년 4월 29일(음력 3월 19일)(음력 3월 19일) ~ ...          '박용오'   \n",
      "8   8  중공군에게 온전히 대항할 수 없을 정도로 약해진 국민당은 타이베이로 수도를 옮기는 ...         '중화민국'   \n",
      "9   9  특히 김동연 전 경제부총리를 비롯한 김두관 국회의원, 안규백 국회의원, 김종민 국회...          '안규백'   \n",
      "\n",
      "     object_entity                      label  \n",
      "0         '조지 해리슨'                no_relation  \n",
      "1           '대안신당'                no_relation  \n",
      "2       '한국프로축구연맹'              org:member_of  \n",
      "3            '박정부'  org:top_members/employees  \n",
      "4           '1967'                no_relation  \n",
      "5           'NATO'        org:alternate_names  \n",
      "6           '1989'                no_relation  \n",
      "7   '1937년 4월 29일'          per:date_of_birth  \n",
      "8           '타이베이'  org:place_of_headquarters  \n",
      "9         '더불어민주당'            per:employee_of  \n"
     ]
    }
   ],
   "source": [
    "print(train_dataset[:10])"
   ]
  },
  {
   "cell_type": "code",
   "execution_count": 9,
   "metadata": {},
   "outputs": [
    {
     "name": "stdout",
     "output_type": "stream",
     "text": [
      "학습 문장 최대 길이 : 455\n",
      "학습 문장의 평균 길이 : 97.08395441946412\n",
      "32470\n"
     ]
    },
    {
     "data": {
      "image/png": "[encoded data removed]",
      "text/plain": [
       "<Figure size 432x288 with 1 Axes>"
      ]
     },
     "metadata": {
      "needs_background": "light"
     },
     "output_type": "display_data"
    }
   ],
   "source": [
    "#학습 문장의 길이조사\n",
    "print('학습 문장 최대 길이 :',max(len(l) for l in train_dataset['sentence']))\n",
    "print('학습 문장의 평균 길이 :',sum(map(len, train_dataset['sentence']))/len(train_dataset['sentence']))\n",
    "print(len(train_dataset['sentence']))\n",
    "plt.hist([len(s) for s in train_dataset['sentence']], bins=50)\n",
    "plt.xlabel('length of data')\n",
    "plt.ylabel('number of data')\n",
    "plt.show()"
   ]
  },
  {
   "cell_type": "code",
   "execution_count": 10,
   "metadata": {},
   "outputs": [],
   "source": [
    "MODEL_NAME = \"klue/roberta-large\"\n",
    "tokenizer = AutoTokenizer.from_pretrained(MODEL_NAME)\n",
    "tokenized_train = tokenized_dataset(train_dataset, tokenizer)"
   ]
  },
  {
   "cell_type": "code",
   "execution_count": 12,
   "metadata": {},
   "outputs": [
    {
     "data": {
      "text/plain": [
       "3"
      ]
     },
     "execution_count": 12,
     "metadata": {},
     "output_type": "execute_result"
    }
   ],
   "source": [
    "tokenizer.convert_tokens_to_ids('[UNK]')"
   ]
  },
  {
   "cell_type": "code",
   "execution_count": 13,
   "metadata": {},
   "outputs": [
    {
     "name": "stdout",
     "output_type": "stream",
     "text": [
      "32470\n"
     ]
    }
   ],
   "source": [
    "print(len(tokenized_train.input_ids))"
   ]
  },
  {
   "cell_type": "code",
   "execution_count": 14,
   "metadata": {},
   "outputs": [
    {
     "name": "stdout",
     "output_type": "stream",
     "text": [
      "토큰화된 학습 문장 최대 길이 : 241\n",
      "토큰화된 학습 문장의 평균 길이 : 64.5516784724361\n",
      "32470\n"
     ]
    },
    {
     "data": {
      "image/png": "[encoded data removed]",
      "text/plain": [
       "<Figure size 432x288 with 1 Axes>"
      ]
     },
     "metadata": {
      "needs_background": "light"
     },
     "output_type": "display_data"
    }
   ],
   "source": [
    "#토큰화된 학습 문장의 길이조사\n",
    "print('토큰화된 학습 문장 최대 길이 :',max(sum(l).numpy() for l in tokenized_train.attention_mask))\n",
    "print('토큰화된 학습 문장의 평균 길이 :',sum(sum(l).numpy() for l in tokenized_train.attention_mask)/len(tokenized_train.attention_mask))\n",
    "print(len(tokenized_train.attention_mask))\n",
    "values = [int(sum(l).numpy()) for l in tokenized_train.attention_mask]\n",
    "plt.hist(values, bins=50)\n",
    "plt.xlabel('length of data')\n",
    "plt.ylabel('number of data')\n",
    "plt.show()"
   ]
  },
  {
   "cell_type": "code",
   "execution_count": 15,
   "metadata": {},
   "outputs": [
    {
     "name": "stdout",
     "output_type": "stream",
     "text": [
      "총 문장 개수 : 32470\n",
      "[UNK] 토큰 개수 : 6953\n",
      "전체 토큰 개수(PAD제외) : 2095993\n",
      "[UNK] 비율 : 0.3317282071075619%\n"
     ]
    }
   ],
   "source": [
    "# train 데이터셋에서 UNK 토큰이 있나 확인함(0.3317%)\n",
    "print(f\"총 문장 개수 : {len(tokenized_train.input_ids)}\")\n",
    "cnt = sum(sum((tokenized_train.input_ids == 3))).numpy()\n",
    "total_words = sum(sum(tokenized_train.attention_mask)).numpy()\n",
    "\n",
    "print(f\"[UNK] 토큰 개수 : {cnt}\")\n",
    "print(f\"전체 토큰 개수(PAD제외) : {total_words}\")\n",
    "print(f\"[UNK] 비율 : {cnt / total_words * 100}%\")"
   ]
  },
  {
   "cell_type": "code",
   "execution_count": 16,
   "metadata": {},
   "outputs": [],
   "source": [
    "test_dataset = load_data(\"../dataset/test/test_data.csv\")\n",
    "tokenized_test = tokenized_dataset(test_dataset, tokenizer)"
   ]
  },
  {
   "cell_type": "code",
   "execution_count": 17,
   "metadata": {},
   "outputs": [
    {
     "name": "stdout",
     "output_type": "stream",
     "text": [
      "   id                                           sentence  subject_entity  \\\n",
      "0   0               지난 15일 MBC '탐사기획 스트레이트'가 이 사실을 보도했다.           'MBC'   \n",
      "1   1  사랑스러운 ‘프린세스 프링’의 이름은 봄의 공주님: Princess(s)Pring이...       '프린세스 프링'   \n",
      "2   2  한편, 본인(이근안)을 모델로 한 MBC 특집드라마 가 1995년 6.25 특집극으...            '경찰'   \n",
      "3   3  정창손은 김질과 같이 대궐로 달려가 고변하며 '신은 실로 모르고 김질만 혼자 참여하...            '세조'   \n",
      "4   4  당시 민주당 이진련 시의원은 권영진 시장에게 \"긴급 생계자금을 왜 현금으로 지원하지...           '민주당'   \n",
      "5   5  미국은 필리핀 측에서는 동맹이 아니라 지배자가 되었다고 볼 수 있기 때문에, 필리핀...           '필리핀'   \n",
      "6   6  한국당 전희경 대변인은 이날 정 총리 후보자 지명 직후 논평을 내고 \"의회를 시녀화...           '전희경'   \n",
      "7   7  문재인 대통령 부인 김정숙 여사는 22일부터 1박2일 일정으로 광주를 방문해 경기를...           '문재인'   \n",
      "8   8  조선민주주의인민공화국 관할 지역은 개풍군 영북면 월고리 및 연천군 서남면 지역을 합...   '조선민주주의인민공화국'   \n",
      "9   9         소련군에서 그의 이름도 중국식의 진지첸으로 조선인으로서의 정체성도 희박했다.           '소련군'   \n",
      "\n",
      "   object_entity  label  \n",
      "0   '탐사기획 스트레이트'    100  \n",
      "1           '공주'    100  \n",
      "2        '1995년'    100  \n",
      "3          '정창손'    100  \n",
      "4          '권영진'    100  \n",
      "5           '미국'    100  \n",
      "6          '한국당'    100  \n",
      "7          '김정숙'    100  \n",
      "8          '개풍군'    100  \n",
      "9          '진지첸'    100  \n"
     ]
    }
   ],
   "source": [
    "print(test_dataset[:10])"
   ]
  },
  {
   "cell_type": "code",
   "execution_count": 18,
   "metadata": {},
   "outputs": [
    {
     "name": "stdout",
     "output_type": "stream",
     "text": [
      "테스트 문장 최대 길이 : 432\n",
      "테스트 문장의 평균 길이 : 92.96497102382486\n",
      "7765\n"
     ]
    },
    {
     "data": {
      "image/png": "[encoded data removed]",
      "text/plain": [
       "<Figure size 432x288 with 1 Axes>"
      ]
     },
     "metadata": {
      "needs_background": "light"
     },
     "output_type": "display_data"
    }
   ],
   "source": [
    "#테스트 문장의 길이조사\n",
    "print('테스트 문장 최대 길이 :',max(len(l) for l in test_dataset['sentence']))\n",
    "print('테스트 문장의 평균 길이 :',sum(map(len, test_dataset['sentence']))/len(test_dataset['sentence']))\n",
    "print(len(test_dataset['sentence']))\n",
    "plt.hist([len(s) for s in test_dataset['sentence']], bins=50)\n",
    "plt.xlabel('length of data')\n",
    "plt.ylabel('number of data')\n",
    "plt.show()"
   ]
  },
  {
   "cell_type": "code",
   "execution_count": 19,
   "metadata": {},
   "outputs": [
    {
     "name": "stdout",
     "output_type": "stream",
     "text": [
      "토큰화된 테스트 문장 최대 길이 : 235\n",
      "토큰화된 테스트 문장의 평균 길이 : 61.47482292337411\n",
      "7765\n"
     ]
    },
    {
     "data": {
      "image/png": "[encoded data removed]",
      "text/plain": [
       "<Figure size 432x288 with 1 Axes>"
      ]
     },
     "metadata": {
      "needs_background": "light"
     },
     "output_type": "display_data"
    }
   ],
   "source": [
    "#토큰화된 테스트 문장의 길이조사\n",
    "print('토큰화된 테스트 문장 최대 길이 :',max(sum(l).numpy() for l in tokenized_test.attention_mask))\n",
    "print('토큰화된 테스트 문장의 평균 길이 :',sum(sum(l).numpy() for l in tokenized_test.attention_mask)/len(tokenized_test.attention_mask))\n",
    "print(len(tokenized_test.attention_mask))\n",
    "values = [int(sum(l).numpy()) for l in tokenized_test.attention_mask]\n",
    "plt.hist(values, bins=50)\n",
    "plt.xlabel('length of data')\n",
    "plt.ylabel('number of data')\n",
    "plt.show()"
   ]
  },
  {
   "cell_type": "code",
   "execution_count": 20,
   "metadata": {},
   "outputs": [
    {
     "name": "stdout",
     "output_type": "stream",
     "text": [
      "총 문장 개수 : 7765\n",
      "[UNK] 토큰 개수 : 1051\n",
      "전체 토큰 개수(PAD제외) : 477352\n",
      "[UNK] 비율 : 0.2201729541302854%\n"
     ]
    }
   ],
   "source": [
    "# test 데이터셋에서 UNK 토큰이 있나 확인함(0.2202%)\n",
    "print(f\"총 문장 개수 : {len(tokenized_test.input_ids)}\")\n",
    "cnt = sum(sum((tokenized_test.input_ids == 3))).numpy()\n",
    "total_words = sum(sum(tokenized_test.attention_mask)).numpy()\n",
    "\n",
    "print(f\"[UNK] 토큰 개수 : {cnt}\")\n",
    "print(f\"전체 토큰 개수(PAD제외) : {total_words}\")\n",
    "print(f\"[UNK] 비율 : {cnt / total_words * 100}%\")"
   ]
  },
  {
   "cell_type": "code",
   "execution_count": null,
   "metadata": {},
   "outputs": [],
   "source": []
  }
 ],
 "metadata": {
  "kernelspec": {
   "display_name": "Python 3 (ipykernel)",
   "language": "python",
   "name": "python3"
  },
  "language_info": {
   "codemirror_mode": {
    "name": "ipython",
    "version": 3
   },
   "file_extension": ".py",
   "mimetype": "text/x-python",
   "name": "python",
   "nbconvert_exporter": "python",
   "pygments_lexer": "ipython3",
   "version": "3.8.12"
  }
 },
 "nbformat": 4,
 "nbformat_minor": 2
}
