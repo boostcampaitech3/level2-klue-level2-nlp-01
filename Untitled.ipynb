{
 "cells": [
  {
   "cell_type": "code",
   "execution_count": 2,
   "id": "1e2b1218",
   "metadata": {},
   "outputs": [],
   "source": [
    "from models import *\n",
    "import models\n",
    "import sys"
   ]
  },
  {
   "cell_type": "code",
   "execution_count": 3,
   "id": "f838fa4a",
   "metadata": {},
   "outputs": [
    {
     "data": {
      "text/plain": [
       "<module '__main__'>"
      ]
     },
     "execution_count": 3,
     "metadata": {},
     "output_type": "execute_result"
    }
   ],
   "source": [
    "sys.modules[__name__]"
   ]
  },
  {
   "cell_type": "code",
   "execution_count": 4,
   "id": "c92dc39e",
   "metadata": {},
   "outputs": [
    {
     "data": {
      "text/plain": [
       "True"
      ]
     },
     "execution_count": 4,
     "metadata": {},
     "output_type": "execute_result"
    }
   ],
   "source": [
    "hasattr(sys.modules[__name__], \"TokenizerAndModelForKlueReTask\")"
   ]
  },
  {
   "cell_type": "code",
   "execution_count": null,
   "id": "e1903cbe",
   "metadata": {},
   "outputs": [],
   "source": [
    "result = hasattr(models, 'TokenizerAndModelForKlueReTask')"
   ]
  },
  {
   "cell_type": "code",
   "execution_count": null,
   "id": "bcc25fa4",
   "metadata": {},
   "outputs": [],
   "source": [
    "result"
   ]
  },
  {
   "cell_type": "code",
   "execution_count": null,
   "id": "a666b6fe",
   "metadata": {},
   "outputs": [],
   "source": [
    "import models\n",
    "method_to_call = getattr(models, 'TokenizerAndModelForKlueReTask')\n",
    "# result = method_to_call()"
   ]
  },
  {
   "cell_type": "code",
   "execution_count": null,
   "id": "a0eeb408",
   "metadata": {},
   "outputs": [],
   "source": [
    "from load_data import *\n",
    "import load_data"
   ]
  },
  {
   "cell_type": "code",
   "execution_count": null,
   "id": "06b1ba94",
   "metadata": {},
   "outputs": [],
   "source": [
    "getattr(load_data, 'tokenized_dataset_entity')"
   ]
  },
  {
   "cell_type": "code",
   "execution_count": null,
   "id": "aec9a282",
   "metadata": {},
   "outputs": [],
   "source": [
    "vars(models)\n",
    "inspect.getmembers(\"models\")"
   ]
  },
  {
   "cell_type": "code",
   "execution_count": null,
   "id": "101f9037",
   "metadata": {},
   "outputs": [],
   "source": [
    "import sys\n",
    "current_module = sys.modules[models]"
   ]
  },
  {
   "cell_type": "code",
   "execution_count": null,
   "id": "6d962932",
   "metadata": {},
   "outputs": [],
   "source": [
    "__name__"
   ]
  },
  {
   "cell_type": "code",
   "execution_count": null,
   "id": "f915ef52",
   "metadata": {},
   "outputs": [],
   "source": [
    "import inspect"
   ]
  },
  {
   "cell_type": "code",
   "execution_count": null,
   "id": "8ca959e2",
   "metadata": {},
   "outputs": [],
   "source": [
    "inspect.getmembers(\"models\")"
   ]
  },
  {
   "cell_type": "code",
   "execution_count": null,
   "id": "1b6973c7",
   "metadata": {},
   "outputs": [],
   "source": []
  }
 ],
 "metadata": {
  "kernelspec": {
   "display_name": "py38_transformers",
   "language": "python",
   "name": "py38"
  },
  "language_info": {
   "codemirror_mode": {
    "name": "ipython",
    "version": 3
   },
   "file_extension": ".py",
   "mimetype": "text/x-python",
   "name": "python",
   "nbconvert_exporter": "python",
   "pygments_lexer": "ipython3",
   "version": "3.8.12"
  }
 },
 "nbformat": 4,
 "nbformat_minor": 5
}
