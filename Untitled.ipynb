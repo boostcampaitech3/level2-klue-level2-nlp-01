{
 "cells": [
  {
   "cell_type": "code",
   "execution_count": null,
   "id": "1e2b1218",
   "metadata": {},
   "outputs": [],
   "source": [
    "from models import *\n",
    "# import models\n",
    "import sys\n",
    "import os"
   ]
  },
  {
   "cell_type": "code",
   "execution_count": null,
   "id": "f838fa4a",
   "metadata": {},
   "outputs": [],
   "source": [
    "sys.modules[__name__]"
   ]
  },
  {
   "cell_type": "code",
   "execution_count": null,
   "id": "c92dc39e",
   "metadata": {},
   "outputs": [],
   "source": [
    "hasattr(sys.modules[__name__], \"TokenizerAndModelForKlueReTask\")"
   ]
  },
  {
   "cell_type": "code",
   "execution_count": null,
   "id": "e1903cbe",
   "metadata": {},
   "outputs": [],
   "source": [
    "result = hasattr(models, 'TokenizerAndModelForKlueReTask')"
   ]
  },
  {
   "cell_type": "code",
   "execution_count": null,
   "id": "bcc25fa4",
   "metadata": {},
   "outputs": [],
   "source": [
    "result"
   ]
  },
  {
   "cell_type": "code",
   "execution_count": null,
   "id": "a666b6fe",
   "metadata": {},
   "outputs": [],
   "source": [
    "import models\n",
    "method_to_call = getattr(models, 'TokenizerAndModelForKlueReTask')\n",
    "# result = method_to_call()"
   ]
  },
  {
   "cell_type": "code",
   "execution_count": null,
   "id": "a0eeb408",
   "metadata": {},
   "outputs": [],
   "source": [
    "from load_data import *\n",
    "import load_data"
   ]
  },
  {
   "cell_type": "code",
   "execution_count": null,
   "id": "06b1ba94",
   "metadata": {},
   "outputs": [],
   "source": [
    "getattr(load_data, 'tokenized_dataset_entity')"
   ]
  },
  {
   "cell_type": "code",
   "execution_count": null,
   "id": "aec9a282",
   "metadata": {},
   "outputs": [],
   "source": [
    "vars(models)\n",
    "inspect.getmembers(\"models\")"
   ]
  },
  {
   "cell_type": "code",
   "execution_count": null,
   "id": "101f9037",
   "metadata": {},
   "outputs": [],
   "source": [
    "import sys\n",
    "current_module = sys.modules[models]"
   ]
  },
  {
   "cell_type": "code",
   "execution_count": null,
   "id": "6d962932",
   "metadata": {},
   "outputs": [],
   "source": [
    "__name__"
   ]
  },
  {
   "cell_type": "code",
   "execution_count": null,
   "id": "f915ef52",
   "metadata": {},
   "outputs": [],
   "source": [
    "import inspect"
   ]
  },
  {
   "cell_type": "code",
   "execution_count": null,
   "id": "8ca959e2",
   "metadata": {},
   "outputs": [],
   "source": [
    "inspect.getmembers(\"models\")"
   ]
  },
  {
   "cell_type": "code",
   "execution_count": null,
   "id": "ab8d2e24",
   "metadata": {},
   "outputs": [],
   "source": [
    "path = os.path.join('./models','klue/roberta-large-dev-test')"
   ]
  },
  {
   "cell_type": "code",
   "execution_count": null,
   "id": "ee88d418",
   "metadata": {},
   "outputs": [],
   "source": [
    "path"
   ]
  },
  {
   "cell_type": "code",
   "execution_count": null,
   "id": "1b6973c7",
   "metadata": {},
   "outputs": [],
   "source": [
    "os.makedirs(path, exist_ok=True)"
   ]
  },
  {
   "cell_type": "code",
   "execution_count": 10,
   "id": "bea72ca5",
   "metadata": {},
   "outputs": [],
   "source": [
    "import json\n",
    "from ray import tune\n",
    "import yaml"
   ]
  },
  {
   "cell_type": "code",
   "execution_count": 8,
   "id": "bf0b8d31",
   "metadata": {},
   "outputs": [],
   "source": [
    "config = {\n",
    "    \"learning_rate\" : tune.loguniform(1e-5, 5e-5),\n",
    "    \"num_train_epochs\" : tune.choice(range(3, 15)),\n",
    "    \"per_device_train_batch_size\" : tune.choice([16, 32]),\n",
    "    \"gradient_accumulation_steps\" : tune.choice(range(1, 3))\n",
    "}"
   ]
  },
  {
   "cell_type": "code",
   "execution_count": 1,
   "id": "8b880636",
   "metadata": {},
   "outputs": [],
   "source": [
    "import utils\n",
    "import argparse"
   ]
  },
  {
   "cell_type": "code",
   "execution_count": 2,
   "id": "1539a74d",
   "metadata": {},
   "outputs": [],
   "source": [
    "parser = argparse.ArgumentParser()\n",
    "parser.add_argument('--config', default='./configs/train_config.json', help='config.json file')\n",
    "\n",
    "args = parser.parse_args([])\n",
    "config = utils.read_json(args.config)\n",
    "\n",
    "parser.set_defaults(**config)\n",
    "args = parser.parse_args([])"
   ]
  },
  {
   "cell_type": "code",
   "execution_count": 3,
   "id": "3987e31d",
   "metadata": {},
   "outputs": [
    {
     "data": {
      "text/plain": [
       "{'config': './configs/train_config.json',\n",
       " 'ModelArguments': {'MODEL_NAME': 'klue/roberta-large',\n",
       "  'architecture': 'TokenizerAndModelForKlueReTask',\n",
       "  'best_model_dir': './best_model'},\n",
       " 'TrainingArguments': {'report_to': 'wandb',\n",
       "  'output_dir': './models',\n",
       "  'learning_rate': 0.0003,\n",
       "  'do_train': True,\n",
       "  'do_eval': True,\n",
       "  'do_predict': True,\n",
       "  'fp16': False,\n",
       "  'weight_decay': 0.01,\n",
       "  'warmup_steps': 200,\n",
       "  'gradient_accumulation_steps': 32,\n",
       "  'per_device_train_batch_size': 32,\n",
       "  'per_device_eval_batch_size': 32,\n",
       "  'num_train_epochs': 10,\n",
       "  'evaluation_strategy': 'steps',\n",
       "  'eval_steps': 500,\n",
       "  'save_strategy': 'steps',\n",
       "  'save_steps': 500,\n",
       "  'logging_strategy': 'steps',\n",
       "  'logging_steps': 500,\n",
       "  'save_total_limit': 5,\n",
       "  'load_best_model_at_end': True,\n",
       "  'metric_for_best_model': 'eval_micro f1 score',\n",
       "  'logging_dir': './logs',\n",
       "  'lr_scheduler_type': 'linear'},\n",
       " 'DataArguments': {'seed': 42,\n",
       "  'data': '../dataset/train/alternate_train.csv',\n",
       "  'tokenized_dataset': 'tokenized_dataset_entity'},\n",
       " 'HyperParameterArguments': {'learning_rate': 'tune.loguniform(1e-5, 5e-5)',\n",
       "  'num_train_epochs': 'tune.choice(range(3, 15))',\n",
       "  'per_device_train_batch_size': 'tune.choice([16, 32])',\n",
       "  'gradient_accumulation_steps': 'tune.choice(range(1, 3))'},\n",
       " 'LoggingArguments': {'WANDB_API_KEY': '9de863635bf84af4d97d5df0e4577edd8e451f02',\n",
       "  'WANDB_ENTITY': 'plzanswer',\n",
       "  'WANDB_PROJECT': 'test-project',\n",
       "  'WANDB_NAME': 'klue/roberta-large-dev-test',\n",
       "  'WANDB_LOG_MODEL': True}}"
      ]
     },
     "execution_count": 3,
     "metadata": {},
     "output_type": "execute_result"
    }
   ],
   "source": [
    "vars(args)"
   ]
  },
  {
   "cell_type": "code",
   "execution_count": 11,
   "id": "0c392b61",
   "metadata": {},
   "outputs": [],
   "source": [
    "model_args, train_args, data_args, logging_args, hpyer_args = utils.get_arguments(args)"
   ]
  },
  {
   "cell_type": "code",
   "execution_count": 12,
   "id": "ba186ca3",
   "metadata": {},
   "outputs": [
    {
     "data": {
      "text/plain": [
       "{'learning_rate': 'tune.loguniform(1e-5, 5e-5)',\n",
       " 'num_train_epochs': 'tune.choice(range(3, 15))',\n",
       " 'per_device_train_batch_size': 'tune.choice([16, 32])',\n",
       " 'gradient_accumulation_steps': 'tune.choice(range(1, 3))'}"
      ]
     },
     "execution_count": 12,
     "metadata": {},
     "output_type": "execute_result"
    }
   ],
   "source": [
    "hpyer_args"
   ]
  },
  {
   "cell_type": "code",
   "execution_count": 15,
   "id": "d32a6cb1",
   "metadata": {},
   "outputs": [],
   "source": [
    "from ray import tune"
   ]
  },
  {
   "cell_type": "code",
   "execution_count": 17,
   "id": "cdb233ea",
   "metadata": {},
   "outputs": [
    {
     "data": {
      "text/plain": [
       "'tune.loguniform(1e-5, 5e-5)'"
      ]
     },
     "execution_count": 17,
     "metadata": {},
     "output_type": "execute_result"
    }
   ],
   "source": [
    "hpyer_args.learning_rate"
   ]
  },
  {
   "cell_type": "code",
   "execution_count": 16,
   "id": "5d655d56",
   "metadata": {},
   "outputs": [
    {
     "data": {
      "text/plain": [
       "<ray.tune.sample.Float at 0x7ff28f5f4eb0>"
      ]
     },
     "execution_count": 16,
     "metadata": {},
     "output_type": "execute_result"
    }
   ],
   "source": [
    "eval(hpyer_args.learning_rate)"
   ]
  },
  {
   "cell_type": "code",
   "execution_count": 6,
   "id": "af2b1475",
   "metadata": {},
   "outputs": [
    {
     "data": {
      "text/plain": [
       "False"
      ]
     },
     "execution_count": 6,
     "metadata": {},
     "output_type": "execute_result"
    }
   ],
   "source": [
    "not hpyer_args"
   ]
  },
  {
   "cell_type": "code",
   "execution_count": 7,
   "id": "fecddd1b",
   "metadata": {},
   "outputs": [],
   "source": [
    "hpyer_args = {}"
   ]
  },
  {
   "cell_type": "code",
   "execution_count": 8,
   "id": "8625a939",
   "metadata": {},
   "outputs": [
    {
     "data": {
      "text/plain": [
       "True"
      ]
     },
     "execution_count": 8,
     "metadata": {},
     "output_type": "execute_result"
    }
   ],
   "source": [
    "not hpyer_args"
   ]
  },
  {
   "cell_type": "code",
   "execution_count": 4,
   "id": "8b33ca73",
   "metadata": {},
   "outputs": [
    {
     "ename": "TypeError",
     "evalue": "Object of type Float is not JSON serializable",
     "output_type": "error",
     "traceback": [
      "\u001b[0;31m---------------------------------------------------------------------------\u001b[0m",
      "\u001b[0;31mTypeError\u001b[0m                                 Traceback (most recent call last)",
      "\u001b[0;32m/var/folders/46/94mtqk_n4x74p14rc4c63cnr0000gn/T/ipykernel_98888/3640499152.py\u001b[0m in \u001b[0;36m<module>\u001b[0;34m\u001b[0m\n\u001b[1;32m      1\u001b[0m \u001b[0;32mwith\u001b[0m \u001b[0mopen\u001b[0m\u001b[0;34m(\u001b[0m\u001b[0;34m'./config-ray.json'\u001b[0m\u001b[0;34m,\u001b[0m \u001b[0;34m'w'\u001b[0m\u001b[0;34m)\u001b[0m \u001b[0;32mas\u001b[0m \u001b[0mfp\u001b[0m\u001b[0;34m:\u001b[0m\u001b[0;34m\u001b[0m\u001b[0;34m\u001b[0m\u001b[0m\n\u001b[0;32m----> 2\u001b[0;31m     \u001b[0mjson\u001b[0m\u001b[0;34m.\u001b[0m\u001b[0mdump\u001b[0m\u001b[0;34m(\u001b[0m\u001b[0mconfig\u001b[0m\u001b[0;34m,\u001b[0m \u001b[0mfp\u001b[0m\u001b[0;34m)\u001b[0m\u001b[0;34m\u001b[0m\u001b[0;34m\u001b[0m\u001b[0m\n\u001b[0m",
      "\u001b[0;32m~/opt/anaconda3/envs/py38_transformers/lib/python3.8/json/__init__.py\u001b[0m in \u001b[0;36mdump\u001b[0;34m(obj, fp, skipkeys, ensure_ascii, check_circular, allow_nan, cls, indent, separators, default, sort_keys, **kw)\u001b[0m\n\u001b[1;32m    177\u001b[0m     \u001b[0;31m# could accelerate with writelines in some versions of Python, at\u001b[0m\u001b[0;34m\u001b[0m\u001b[0;34m\u001b[0m\u001b[0;34m\u001b[0m\u001b[0m\n\u001b[1;32m    178\u001b[0m     \u001b[0;31m# a debuggability cost\u001b[0m\u001b[0;34m\u001b[0m\u001b[0;34m\u001b[0m\u001b[0;34m\u001b[0m\u001b[0m\n\u001b[0;32m--> 179\u001b[0;31m     \u001b[0;32mfor\u001b[0m \u001b[0mchunk\u001b[0m \u001b[0;32min\u001b[0m \u001b[0miterable\u001b[0m\u001b[0;34m:\u001b[0m\u001b[0;34m\u001b[0m\u001b[0;34m\u001b[0m\u001b[0m\n\u001b[0m\u001b[1;32m    180\u001b[0m         \u001b[0mfp\u001b[0m\u001b[0;34m.\u001b[0m\u001b[0mwrite\u001b[0m\u001b[0;34m(\u001b[0m\u001b[0mchunk\u001b[0m\u001b[0;34m)\u001b[0m\u001b[0;34m\u001b[0m\u001b[0;34m\u001b[0m\u001b[0m\n\u001b[1;32m    181\u001b[0m \u001b[0;34m\u001b[0m\u001b[0m\n",
      "\u001b[0;32m~/opt/anaconda3/envs/py38_transformers/lib/python3.8/json/encoder.py\u001b[0m in \u001b[0;36m_iterencode\u001b[0;34m(o, _current_indent_level)\u001b[0m\n\u001b[1;32m    429\u001b[0m             \u001b[0;32myield\u001b[0m \u001b[0;32mfrom\u001b[0m \u001b[0m_iterencode_list\u001b[0m\u001b[0;34m(\u001b[0m\u001b[0mo\u001b[0m\u001b[0;34m,\u001b[0m \u001b[0m_current_indent_level\u001b[0m\u001b[0;34m)\u001b[0m\u001b[0;34m\u001b[0m\u001b[0;34m\u001b[0m\u001b[0m\n\u001b[1;32m    430\u001b[0m         \u001b[0;32melif\u001b[0m \u001b[0misinstance\u001b[0m\u001b[0;34m(\u001b[0m\u001b[0mo\u001b[0m\u001b[0;34m,\u001b[0m \u001b[0mdict\u001b[0m\u001b[0;34m)\u001b[0m\u001b[0;34m:\u001b[0m\u001b[0;34m\u001b[0m\u001b[0;34m\u001b[0m\u001b[0m\n\u001b[0;32m--> 431\u001b[0;31m             \u001b[0;32myield\u001b[0m \u001b[0;32mfrom\u001b[0m \u001b[0m_iterencode_dict\u001b[0m\u001b[0;34m(\u001b[0m\u001b[0mo\u001b[0m\u001b[0;34m,\u001b[0m \u001b[0m_current_indent_level\u001b[0m\u001b[0;34m)\u001b[0m\u001b[0;34m\u001b[0m\u001b[0;34m\u001b[0m\u001b[0m\n\u001b[0m\u001b[1;32m    432\u001b[0m         \u001b[0;32melse\u001b[0m\u001b[0;34m:\u001b[0m\u001b[0;34m\u001b[0m\u001b[0;34m\u001b[0m\u001b[0m\n\u001b[1;32m    433\u001b[0m             \u001b[0;32mif\u001b[0m \u001b[0mmarkers\u001b[0m \u001b[0;32mis\u001b[0m \u001b[0;32mnot\u001b[0m \u001b[0;32mNone\u001b[0m\u001b[0;34m:\u001b[0m\u001b[0;34m\u001b[0m\u001b[0;34m\u001b[0m\u001b[0m\n",
      "\u001b[0;32m~/opt/anaconda3/envs/py38_transformers/lib/python3.8/json/encoder.py\u001b[0m in \u001b[0;36m_iterencode_dict\u001b[0;34m(dct, _current_indent_level)\u001b[0m\n\u001b[1;32m    403\u001b[0m                 \u001b[0;32melse\u001b[0m\u001b[0;34m:\u001b[0m\u001b[0;34m\u001b[0m\u001b[0;34m\u001b[0m\u001b[0m\n\u001b[1;32m    404\u001b[0m                     \u001b[0mchunks\u001b[0m \u001b[0;34m=\u001b[0m \u001b[0m_iterencode\u001b[0m\u001b[0;34m(\u001b[0m\u001b[0mvalue\u001b[0m\u001b[0;34m,\u001b[0m \u001b[0m_current_indent_level\u001b[0m\u001b[0;34m)\u001b[0m\u001b[0;34m\u001b[0m\u001b[0;34m\u001b[0m\u001b[0m\n\u001b[0;32m--> 405\u001b[0;31m                 \u001b[0;32myield\u001b[0m \u001b[0;32mfrom\u001b[0m \u001b[0mchunks\u001b[0m\u001b[0;34m\u001b[0m\u001b[0;34m\u001b[0m\u001b[0m\n\u001b[0m\u001b[1;32m    406\u001b[0m         \u001b[0;32mif\u001b[0m \u001b[0mnewline_indent\u001b[0m \u001b[0;32mis\u001b[0m \u001b[0;32mnot\u001b[0m \u001b[0;32mNone\u001b[0m\u001b[0;34m:\u001b[0m\u001b[0;34m\u001b[0m\u001b[0;34m\u001b[0m\u001b[0m\n\u001b[1;32m    407\u001b[0m             \u001b[0m_current_indent_level\u001b[0m \u001b[0;34m-=\u001b[0m \u001b[0;36m1\u001b[0m\u001b[0;34m\u001b[0m\u001b[0;34m\u001b[0m\u001b[0m\n",
      "\u001b[0;32m~/opt/anaconda3/envs/py38_transformers/lib/python3.8/json/encoder.py\u001b[0m in \u001b[0;36m_iterencode\u001b[0;34m(o, _current_indent_level)\u001b[0m\n\u001b[1;32m    436\u001b[0m                     \u001b[0;32mraise\u001b[0m \u001b[0mValueError\u001b[0m\u001b[0;34m(\u001b[0m\u001b[0;34m\"Circular reference detected\"\u001b[0m\u001b[0;34m)\u001b[0m\u001b[0;34m\u001b[0m\u001b[0;34m\u001b[0m\u001b[0m\n\u001b[1;32m    437\u001b[0m                 \u001b[0mmarkers\u001b[0m\u001b[0;34m[\u001b[0m\u001b[0mmarkerid\u001b[0m\u001b[0;34m]\u001b[0m \u001b[0;34m=\u001b[0m \u001b[0mo\u001b[0m\u001b[0;34m\u001b[0m\u001b[0;34m\u001b[0m\u001b[0m\n\u001b[0;32m--> 438\u001b[0;31m             \u001b[0mo\u001b[0m \u001b[0;34m=\u001b[0m \u001b[0m_default\u001b[0m\u001b[0;34m(\u001b[0m\u001b[0mo\u001b[0m\u001b[0;34m)\u001b[0m\u001b[0;34m\u001b[0m\u001b[0;34m\u001b[0m\u001b[0m\n\u001b[0m\u001b[1;32m    439\u001b[0m             \u001b[0;32myield\u001b[0m \u001b[0;32mfrom\u001b[0m \u001b[0m_iterencode\u001b[0m\u001b[0;34m(\u001b[0m\u001b[0mo\u001b[0m\u001b[0;34m,\u001b[0m \u001b[0m_current_indent_level\u001b[0m\u001b[0;34m)\u001b[0m\u001b[0;34m\u001b[0m\u001b[0;34m\u001b[0m\u001b[0m\n\u001b[1;32m    440\u001b[0m             \u001b[0;32mif\u001b[0m \u001b[0mmarkers\u001b[0m \u001b[0;32mis\u001b[0m \u001b[0;32mnot\u001b[0m \u001b[0;32mNone\u001b[0m\u001b[0;34m:\u001b[0m\u001b[0;34m\u001b[0m\u001b[0;34m\u001b[0m\u001b[0m\n",
      "\u001b[0;32m~/opt/anaconda3/envs/py38_transformers/lib/python3.8/json/encoder.py\u001b[0m in \u001b[0;36mdefault\u001b[0;34m(self, o)\u001b[0m\n\u001b[1;32m    177\u001b[0m \u001b[0;34m\u001b[0m\u001b[0m\n\u001b[1;32m    178\u001b[0m         \"\"\"\n\u001b[0;32m--> 179\u001b[0;31m         raise TypeError(f'Object of type {o.__class__.__name__} '\n\u001b[0m\u001b[1;32m    180\u001b[0m                         f'is not JSON serializable')\n\u001b[1;32m    181\u001b[0m \u001b[0;34m\u001b[0m\u001b[0m\n",
      "\u001b[0;31mTypeError\u001b[0m: Object of type Float is not JSON serializable"
     ]
    }
   ],
   "source": [
    "with open('./config-ray.json', 'w') as fp:\n",
    "    json.dump(config, fp)"
   ]
  },
  {
   "cell_type": "code",
   "execution_count": null,
   "id": "976555b4",
   "metadata": {},
   "outputs": [],
   "source": []
  }
 ],
 "metadata": {
  "kernelspec": {
   "display_name": "py38_transformers",
   "language": "python",
   "name": "py38"
  },
  "language_info": {
   "codemirror_mode": {
    "name": "ipython",
    "version": 3
   },
   "file_extension": ".py",
   "mimetype": "text/x-python",
   "name": "python",
   "nbconvert_exporter": "python",
   "pygments_lexer": "ipython3",
   "version": "3.8.12"
  }
 },
 "nbformat": 4,
 "nbformat_minor": 5
}
