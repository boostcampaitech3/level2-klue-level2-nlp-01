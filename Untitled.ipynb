{
 "cells": [
  {
   "cell_type": "code",
   "execution_count": null,
   "id": "1e2b1218",
   "metadata": {},
   "outputs": [],
   "source": [
    "from models import *\n",
    "# import models\n",
    "import sys\n",
    "import os"
   ]
  },
  {
   "cell_type": "code",
   "execution_count": null,
   "id": "f838fa4a",
   "metadata": {},
   "outputs": [],
   "source": [
    "sys.modules[__name__]"
   ]
  },
  {
   "cell_type": "code",
   "execution_count": null,
   "id": "c92dc39e",
   "metadata": {},
   "outputs": [],
   "source": [
    "hasattr(sys.modules[__name__], \"TokenizerAndModelForKlueReTask\")"
   ]
  },
  {
   "cell_type": "code",
   "execution_count": null,
   "id": "e1903cbe",
   "metadata": {},
   "outputs": [],
   "source": [
    "result = hasattr(models, 'TokenizerAndModelForKlueReTask')"
   ]
  },
  {
   "cell_type": "code",
   "execution_count": null,
   "id": "bcc25fa4",
   "metadata": {},
   "outputs": [],
   "source": [
    "result"
   ]
  },
  {
   "cell_type": "code",
   "execution_count": null,
   "id": "a666b6fe",
   "metadata": {},
   "outputs": [],
   "source": [
    "import models\n",
    "method_to_call = getattr(models, 'TokenizerAndModelForKlueReTask')\n",
    "# result = method_to_call()"
   ]
  },
  {
   "cell_type": "code",
   "execution_count": null,
   "id": "a0eeb408",
   "metadata": {},
   "outputs": [],
   "source": [
    "from load_data import *\n",
    "import load_data"
   ]
  },
  {
   "cell_type": "code",
   "execution_count": null,
   "id": "06b1ba94",
   "metadata": {},
   "outputs": [],
   "source": [
    "getattr(load_data, 'tokenized_dataset_entity')"
   ]
  },
  {
   "cell_type": "code",
   "execution_count": null,
   "id": "aec9a282",
   "metadata": {},
   "outputs": [],
   "source": [
    "vars(models)\n",
    "inspect.getmembers(\"models\")"
   ]
  },
  {
   "cell_type": "code",
   "execution_count": null,
   "id": "101f9037",
   "metadata": {},
   "outputs": [],
   "source": [
    "import sys\n",
    "current_module = sys.modules[models]"
   ]
  },
  {
   "cell_type": "code",
   "execution_count": null,
   "id": "6d962932",
   "metadata": {},
   "outputs": [],
   "source": [
    "__name__"
   ]
  },
  {
   "cell_type": "code",
   "execution_count": null,
   "id": "f915ef52",
   "metadata": {},
   "outputs": [],
   "source": [
    "import inspect"
   ]
  },
  {
   "cell_type": "code",
   "execution_count": null,
   "id": "8ca959e2",
   "metadata": {},
   "outputs": [],
   "source": [
    "inspect.getmembers(\"models\")"
   ]
  },
  {
   "cell_type": "code",
   "execution_count": null,
   "id": "ab8d2e24",
   "metadata": {},
   "outputs": [],
   "source": [
    "path = os.path.join('./models','klue/roberta-large-dev-test')"
   ]
  },
  {
   "cell_type": "code",
   "execution_count": null,
   "id": "ee88d418",
   "metadata": {},
   "outputs": [],
   "source": [
    "path"
   ]
  },
  {
   "cell_type": "code",
   "execution_count": null,
   "id": "1b6973c7",
   "metadata": {},
   "outputs": [],
   "source": [
    "os.makedirs(path, exist_ok=True)"
   ]
  },
  {
   "cell_type": "code",
   "execution_count": 10,
   "id": "bea72ca5",
   "metadata": {},
   "outputs": [],
   "source": [
    "import json\n",
    "from ray import tune\n",
    "import yaml"
   ]
  },
  {
   "cell_type": "code",
   "execution_count": 8,
   "id": "bf0b8d31",
   "metadata": {},
   "outputs": [],
   "source": [
    "config = {\n",
    "    \"learning_rate\" : tune.loguniform(1e-5, 5e-5),\n",
    "    \"num_train_epochs\" : tune.choice(range(3, 15)),\n",
    "    \"per_device_train_batch_size\" : tune.choice([16, 32]),\n",
    "    \"gradient_accumulation_steps\" : tune.choice(range(1, 3))\n",
    "}"
   ]
  },
  {
   "cell_type": "code",
   "execution_count": 1,
   "id": "8b880636",
   "metadata": {},
   "outputs": [],
   "source": [
    "import utils\n",
    "import argparse"
   ]
  },
  {
   "cell_type": "code",
   "execution_count": 2,
   "id": "1539a74d",
   "metadata": {},
   "outputs": [],
   "source": [
    "parser = argparse.ArgumentParser()\n",
    "parser.add_argument('--config', default='./configs/train_config.json', help='config.json file')\n",
    "\n",
    "args = parser.parse_args([])\n",
    "config = utils.read_json(args.config)\n",
    "\n",
    "parser.set_defaults(**config)\n",
    "args = parser.parse_args([])"
   ]
  },
  {
   "cell_type": "code",
   "execution_count": 3,
   "id": "3987e31d",
   "metadata": {},
   "outputs": [
    {
     "data": {
      "text/plain": [
       "{'config': './configs/train_config.json',\n",
       " 'ModelArguments': {'MODEL_NAME': 'klue/roberta-large',\n",
       "  'architecture': 'TokenizerAndModelForKlueReTask',\n",
       "  'best_model_dir': './best_model'},\n",
       " 'TrainingArguments': {'report_to': 'wandb',\n",
       "  'output_dir': './models',\n",
       "  'learning_rate': 0.0003,\n",
       "  'do_train': True,\n",
       "  'do_eval': True,\n",
       "  'do_predict': True,\n",
       "  'fp16': False,\n",
       "  'weight_decay': 0.01,\n",
       "  'warmup_steps': 200,\n",
       "  'gradient_accumulation_steps': 32,\n",
       "  'per_device_train_batch_size': 32,\n",
       "  'per_device_eval_batch_size': 32,\n",
       "  'num_train_epochs': 10,\n",
       "  'evaluation_strategy': 'steps',\n",
       "  'eval_steps': 500,\n",
       "  'save_strategy': 'steps',\n",
       "  'save_steps': 500,\n",
       "  'logging_strategy': 'steps',\n",
       "  'logging_steps': 500,\n",
       "  'save_total_limit': 5,\n",
       "  'load_best_model_at_end': True,\n",
       "  'metric_for_best_model': 'eval_micro f1 score',\n",
       "  'logging_dir': './logs',\n",
       "  'lr_scheduler_type': 'linear'},\n",
       " 'DataArguments': {'seed': 42,\n",
       "  'data': '../dataset/train/alternate_train.csv',\n",
       "  'tokenized_dataset': 'tokenized_dataset_entity'},\n",
       " 'HyperParameterArguments': {'learning_rate': 'tune.loguniform(1e-5, 5e-5)',\n",
       "  'num_train_epochs': 'tune.choice(range(3, 15))',\n",
       "  'per_device_train_batch_size': 'tune.choice([16, 32])',\n",
       "  'gradient_accumulation_steps': 'tune.choice(range(1, 3))'},\n",
       " 'LoggingArguments': {'WANDB_API_KEY': '9de863635bf84af4d97d5df0e4577edd8e451f02',\n",
       "  'WANDB_ENTITY': 'plzanswer',\n",
       "  'WANDB_PROJECT': 'test-project',\n",
       "  'WANDB_NAME': 'klue/roberta-large-dev-test',\n",
       "  'WANDB_LOG_MODEL': True}}"
      ]
     },
     "execution_count": 3,
     "metadata": {},
     "output_type": "execute_result"
    }
   ],
   "source": [
    "vars(args)"
   ]
  },
  {
   "cell_type": "code",
   "execution_count": 11,
   "id": "0c392b61",
   "metadata": {},
   "outputs": [],
   "source": [
    "model_args, train_args, data_args, logging_args, hpyer_args = utils.get_arguments(args)"
   ]
  },
  {
   "cell_type": "code",
   "execution_count": 12,
   "id": "ba186ca3",
   "metadata": {},
   "outputs": [
    {
     "data": {
      "text/plain": [
       "{'learning_rate': 'tune.loguniform(1e-5, 5e-5)',\n",
       " 'num_train_epochs': 'tune.choice(range(3, 15))',\n",
       " 'per_device_train_batch_size': 'tune.choice([16, 32])',\n",
       " 'gradient_accumulation_steps': 'tune.choice(range(1, 3))'}"
      ]
     },
     "execution_count": 12,
     "metadata": {},
     "output_type": "execute_result"
    }
   ],
   "source": [
    "hpyer_args"
   ]
  },
  {
   "cell_type": "code",
   "execution_count": 15,
   "id": "d32a6cb1",
   "metadata": {},
   "outputs": [],
   "source": [
    "from ray import tune"
   ]
  },
  {
   "cell_type": "code",
   "execution_count": 17,
   "id": "cdb233ea",
   "metadata": {},
   "outputs": [
    {
     "data": {
      "text/plain": [
       "'tune.loguniform(1e-5, 5e-5)'"
      ]
     },
     "execution_count": 17,
     "metadata": {},
     "output_type": "execute_result"
    }
   ],
   "source": [
    "hpyer_args.learning_rate"
   ]
  },
  {
   "cell_type": "code",
   "execution_count": 16,
   "id": "5d655d56",
   "metadata": {},
   "outputs": [
    {
     "data": {
      "text/plain": [
       "<ray.tune.sample.Float at 0x7ff28f5f4eb0>"
      ]
     },
     "execution_count": 16,
     "metadata": {},
     "output_type": "execute_result"
    }
   ],
   "source": [
    "eval(hpyer_args.learning_rate)"
   ]
  },
  {
   "cell_type": "code",
   "execution_count": 6,
   "id": "af2b1475",
   "metadata": {},
   "outputs": [
    {
     "data": {
      "text/plain": [
       "False"
      ]
     },
     "execution_count": 6,
     "metadata": {},
     "output_type": "execute_result"
    }
   ],
   "source": [
    "not hpyer_args"
   ]
  },
  {
   "cell_type": "code",
   "execution_count": 7,
   "id": "fecddd1b",
   "metadata": {},
   "outputs": [],
   "source": [
    "hpyer_args = {}"
   ]
  },
  {
   "cell_type": "code",
   "execution_count": 8,
   "id": "8625a939",
   "metadata": {},
   "outputs": [
    {
     "data": {
      "text/plain": [
       "True"
      ]
     },
     "execution_count": 8,
     "metadata": {},
     "output_type": "execute_result"
    }
   ],
   "source": [
    "not hpyer_args"
   ]
  },
  {
   "cell_type": "code",
   "execution_count": 4,
   "id": "8b33ca73",
   "metadata": {
    "scrolled": true
   },
   "outputs": [
    {
     "ename": "TypeError",
     "evalue": "Object of type Float is not JSON serializable",
     "output_type": "error",
     "traceback": [
      "\u001b[0;31m---------------------------------------------------------------------------\u001b[0m",
      "\u001b[0;31mTypeError\u001b[0m                                 Traceback (most recent call last)",
      "\u001b[0;32m/var/folders/46/94mtqk_n4x74p14rc4c63cnr0000gn/T/ipykernel_98888/3640499152.py\u001b[0m in \u001b[0;36m<module>\u001b[0;34m\u001b[0m\n\u001b[1;32m      1\u001b[0m \u001b[0;32mwith\u001b[0m \u001b[0mopen\u001b[0m\u001b[0;34m(\u001b[0m\u001b[0;34m'./config-ray.json'\u001b[0m\u001b[0;34m,\u001b[0m \u001b[0;34m'w'\u001b[0m\u001b[0;34m)\u001b[0m \u001b[0;32mas\u001b[0m \u001b[0mfp\u001b[0m\u001b[0;34m:\u001b[0m\u001b[0;34m\u001b[0m\u001b[0;34m\u001b[0m\u001b[0m\n\u001b[0;32m----> 2\u001b[0;31m     \u001b[0mjson\u001b[0m\u001b[0;34m.\u001b[0m\u001b[0mdump\u001b[0m\u001b[0;34m(\u001b[0m\u001b[0mconfig\u001b[0m\u001b[0;34m,\u001b[0m \u001b[0mfp\u001b[0m\u001b[0;34m)\u001b[0m\u001b[0;34m\u001b[0m\u001b[0;34m\u001b[0m\u001b[0m\n\u001b[0m",
      "\u001b[0;32m~/opt/anaconda3/envs/py38_transformers/lib/python3.8/json/__init__.py\u001b[0m in \u001b[0;36mdump\u001b[0;34m(obj, fp, skipkeys, ensure_ascii, check_circular, allow_nan, cls, indent, separators, default, sort_keys, **kw)\u001b[0m\n\u001b[1;32m    177\u001b[0m     \u001b[0;31m# could accelerate with writelines in some versions of Python, at\u001b[0m\u001b[0;34m\u001b[0m\u001b[0;34m\u001b[0m\u001b[0;34m\u001b[0m\u001b[0m\n\u001b[1;32m    178\u001b[0m     \u001b[0;31m# a debuggability cost\u001b[0m\u001b[0;34m\u001b[0m\u001b[0;34m\u001b[0m\u001b[0;34m\u001b[0m\u001b[0m\n\u001b[0;32m--> 179\u001b[0;31m     \u001b[0;32mfor\u001b[0m \u001b[0mchunk\u001b[0m \u001b[0;32min\u001b[0m \u001b[0miterable\u001b[0m\u001b[0;34m:\u001b[0m\u001b[0;34m\u001b[0m\u001b[0;34m\u001b[0m\u001b[0m\n\u001b[0m\u001b[1;32m    180\u001b[0m         \u001b[0mfp\u001b[0m\u001b[0;34m.\u001b[0m\u001b[0mwrite\u001b[0m\u001b[0;34m(\u001b[0m\u001b[0mchunk\u001b[0m\u001b[0;34m)\u001b[0m\u001b[0;34m\u001b[0m\u001b[0;34m\u001b[0m\u001b[0m\n\u001b[1;32m    181\u001b[0m \u001b[0;34m\u001b[0m\u001b[0m\n",
      "\u001b[0;32m~/opt/anaconda3/envs/py38_transformers/lib/python3.8/json/encoder.py\u001b[0m in \u001b[0;36m_iterencode\u001b[0;34m(o, _current_indent_level)\u001b[0m\n\u001b[1;32m    429\u001b[0m             \u001b[0;32myield\u001b[0m \u001b[0;32mfrom\u001b[0m \u001b[0m_iterencode_list\u001b[0m\u001b[0;34m(\u001b[0m\u001b[0mo\u001b[0m\u001b[0;34m,\u001b[0m \u001b[0m_current_indent_level\u001b[0m\u001b[0;34m)\u001b[0m\u001b[0;34m\u001b[0m\u001b[0;34m\u001b[0m\u001b[0m\n\u001b[1;32m    430\u001b[0m         \u001b[0;32melif\u001b[0m \u001b[0misinstance\u001b[0m\u001b[0;34m(\u001b[0m\u001b[0mo\u001b[0m\u001b[0;34m,\u001b[0m \u001b[0mdict\u001b[0m\u001b[0;34m)\u001b[0m\u001b[0;34m:\u001b[0m\u001b[0;34m\u001b[0m\u001b[0;34m\u001b[0m\u001b[0m\n\u001b[0;32m--> 431\u001b[0;31m             \u001b[0;32myield\u001b[0m \u001b[0;32mfrom\u001b[0m \u001b[0m_iterencode_dict\u001b[0m\u001b[0;34m(\u001b[0m\u001b[0mo\u001b[0m\u001b[0;34m,\u001b[0m \u001b[0m_current_indent_level\u001b[0m\u001b[0;34m)\u001b[0m\u001b[0;34m\u001b[0m\u001b[0;34m\u001b[0m\u001b[0m\n\u001b[0m\u001b[1;32m    432\u001b[0m         \u001b[0;32melse\u001b[0m\u001b[0;34m:\u001b[0m\u001b[0;34m\u001b[0m\u001b[0;34m\u001b[0m\u001b[0m\n\u001b[1;32m    433\u001b[0m             \u001b[0;32mif\u001b[0m \u001b[0mmarkers\u001b[0m \u001b[0;32mis\u001b[0m \u001b[0;32mnot\u001b[0m \u001b[0;32mNone\u001b[0m\u001b[0;34m:\u001b[0m\u001b[0;34m\u001b[0m\u001b[0;34m\u001b[0m\u001b[0m\n",
      "\u001b[0;32m~/opt/anaconda3/envs/py38_transformers/lib/python3.8/json/encoder.py\u001b[0m in \u001b[0;36m_iterencode_dict\u001b[0;34m(dct, _current_indent_level)\u001b[0m\n\u001b[1;32m    403\u001b[0m                 \u001b[0;32melse\u001b[0m\u001b[0;34m:\u001b[0m\u001b[0;34m\u001b[0m\u001b[0;34m\u001b[0m\u001b[0m\n\u001b[1;32m    404\u001b[0m                     \u001b[0mchunks\u001b[0m \u001b[0;34m=\u001b[0m \u001b[0m_iterencode\u001b[0m\u001b[0;34m(\u001b[0m\u001b[0mvalue\u001b[0m\u001b[0;34m,\u001b[0m \u001b[0m_current_indent_level\u001b[0m\u001b[0;34m)\u001b[0m\u001b[0;34m\u001b[0m\u001b[0;34m\u001b[0m\u001b[0m\n\u001b[0;32m--> 405\u001b[0;31m                 \u001b[0;32myield\u001b[0m \u001b[0;32mfrom\u001b[0m \u001b[0mchunks\u001b[0m\u001b[0;34m\u001b[0m\u001b[0;34m\u001b[0m\u001b[0m\n\u001b[0m\u001b[1;32m    406\u001b[0m         \u001b[0;32mif\u001b[0m \u001b[0mnewline_indent\u001b[0m \u001b[0;32mis\u001b[0m \u001b[0;32mnot\u001b[0m \u001b[0;32mNone\u001b[0m\u001b[0;34m:\u001b[0m\u001b[0;34m\u001b[0m\u001b[0;34m\u001b[0m\u001b[0m\n\u001b[1;32m    407\u001b[0m             \u001b[0m_current_indent_level\u001b[0m \u001b[0;34m-=\u001b[0m \u001b[0;36m1\u001b[0m\u001b[0;34m\u001b[0m\u001b[0;34m\u001b[0m\u001b[0m\n",
      "\u001b[0;32m~/opt/anaconda3/envs/py38_transformers/lib/python3.8/json/encoder.py\u001b[0m in \u001b[0;36m_iterencode\u001b[0;34m(o, _current_indent_level)\u001b[0m\n\u001b[1;32m    436\u001b[0m                     \u001b[0;32mraise\u001b[0m \u001b[0mValueError\u001b[0m\u001b[0;34m(\u001b[0m\u001b[0;34m\"Circular reference detected\"\u001b[0m\u001b[0;34m)\u001b[0m\u001b[0;34m\u001b[0m\u001b[0;34m\u001b[0m\u001b[0m\n\u001b[1;32m    437\u001b[0m                 \u001b[0mmarkers\u001b[0m\u001b[0;34m[\u001b[0m\u001b[0mmarkerid\u001b[0m\u001b[0;34m]\u001b[0m \u001b[0;34m=\u001b[0m \u001b[0mo\u001b[0m\u001b[0;34m\u001b[0m\u001b[0;34m\u001b[0m\u001b[0m\n\u001b[0;32m--> 438\u001b[0;31m             \u001b[0mo\u001b[0m \u001b[0;34m=\u001b[0m \u001b[0m_default\u001b[0m\u001b[0;34m(\u001b[0m\u001b[0mo\u001b[0m\u001b[0;34m)\u001b[0m\u001b[0;34m\u001b[0m\u001b[0;34m\u001b[0m\u001b[0m\n\u001b[0m\u001b[1;32m    439\u001b[0m             \u001b[0;32myield\u001b[0m \u001b[0;32mfrom\u001b[0m \u001b[0m_iterencode\u001b[0m\u001b[0;34m(\u001b[0m\u001b[0mo\u001b[0m\u001b[0;34m,\u001b[0m \u001b[0m_current_indent_level\u001b[0m\u001b[0;34m)\u001b[0m\u001b[0;34m\u001b[0m\u001b[0;34m\u001b[0m\u001b[0m\n\u001b[1;32m    440\u001b[0m             \u001b[0;32mif\u001b[0m \u001b[0mmarkers\u001b[0m \u001b[0;32mis\u001b[0m \u001b[0;32mnot\u001b[0m \u001b[0;32mNone\u001b[0m\u001b[0;34m:\u001b[0m\u001b[0;34m\u001b[0m\u001b[0;34m\u001b[0m\u001b[0m\n",
      "\u001b[0;32m~/opt/anaconda3/envs/py38_transformers/lib/python3.8/json/encoder.py\u001b[0m in \u001b[0;36mdefault\u001b[0;34m(self, o)\u001b[0m\n\u001b[1;32m    177\u001b[0m \u001b[0;34m\u001b[0m\u001b[0m\n\u001b[1;32m    178\u001b[0m         \"\"\"\n\u001b[0;32m--> 179\u001b[0;31m         raise TypeError(f'Object of type {o.__class__.__name__} '\n\u001b[0m\u001b[1;32m    180\u001b[0m                         f'is not JSON serializable')\n\u001b[1;32m    181\u001b[0m \u001b[0;34m\u001b[0m\u001b[0m\n",
      "\u001b[0;31mTypeError\u001b[0m: Object of type Float is not JSON serializable"
     ]
    }
   ],
   "source": [
    "with open('./config-ray.json', 'w') as fp:\n",
    "    json.dump(config, fp)"
   ]
  },
  {
   "cell_type": "code",
   "execution_count": 17,
   "id": "976555b4",
   "metadata": {},
   "outputs": [],
   "source": [
    "import sys\n",
    "from load_data import *\n",
    "# import load_data"
   ]
  },
  {
   "cell_type": "code",
   "execution_count": 18,
   "id": "63d32d4b",
   "metadata": {},
   "outputs": [],
   "source": [
    "k = getattr(sys.modules[__name__], 'tokenized_dataset_entity')"
   ]
  },
  {
   "cell_type": "code",
   "execution_count": 19,
   "id": "4fbf7b1b",
   "metadata": {},
   "outputs": [
    {
     "name": "stdout",
     "output_type": "stream",
     "text": [
      "<function tokenized_dataset_entity at 0x7fee03e58d30>\n"
     ]
    }
   ],
   "source": [
    "print(k)"
   ]
  },
  {
   "cell_type": "code",
   "execution_count": 14,
   "id": "4fc0d06b",
   "metadata": {},
   "outputs": [],
   "source": [
    "train_dataset = load_data(\"../dataset/train/alternate_train.csv\")"
   ]
  },
  {
   "cell_type": "code",
   "execution_count": null,
   "id": "0e1bf20c",
   "metadata": {},
   "outputs": [],
   "source": []
  },
  {
   "cell_type": "code",
   "execution_count": null,
   "id": "47ab33d3",
   "metadata": {},
   "outputs": [],
   "source": []
  },
  {
   "cell_type": "code",
   "execution_count": 15,
   "id": "216eb19d",
   "metadata": {},
   "outputs": [],
   "source": [
    "from load_data import *"
   ]
  },
  {
   "cell_type": "code",
   "execution_count": 16,
   "id": "f84f4ad5",
   "metadata": {},
   "outputs": [],
   "source": [
    "train_dataset, dev_dataset = split_train_valid_stratified(train_dataset, split_ratio=0.2)"
   ]
  },
  {
   "cell_type": "code",
   "execution_count": 17,
   "id": "dbd8e9de",
   "metadata": {},
   "outputs": [
    {
     "data": {
      "text/html": [
       "<div>\n",
       "<style scoped>\n",
       "    .dataframe tbody tr th:only-of-type {\n",
       "        vertical-align: middle;\n",
       "    }\n",
       "\n",
       "    .dataframe tbody tr th {\n",
       "        vertical-align: top;\n",
       "    }\n",
       "\n",
       "    .dataframe thead th {\n",
       "        text-align: right;\n",
       "    }\n",
       "</style>\n",
       "<table border=\"1\" class=\"dataframe\">\n",
       "  <thead>\n",
       "    <tr style=\"text-align: right;\">\n",
       "      <th></th>\n",
       "      <th>id</th>\n",
       "      <th>sentence</th>\n",
       "      <th>subject_entity</th>\n",
       "      <th>object_entity</th>\n",
       "      <th>subject_span</th>\n",
       "      <th>object_span</th>\n",
       "      <th>label</th>\n",
       "      <th>subject_tag</th>\n",
       "      <th>object_tag</th>\n",
       "    </tr>\n",
       "  </thead>\n",
       "  <tbody>\n",
       "    <tr>\n",
       "      <th>3603</th>\n",
       "      <td>3604</td>\n",
       "      <td>청년당(靑年黨)은 2012년 3월 19일부터 2012년 4월 12일까지 존재했던 대...</td>\n",
       "      <td>청년당</td>\n",
       "      <td>2012년 4월 12일</td>\n",
       "      <td>(0, 2)</td>\n",
       "      <td>(25, 36)</td>\n",
       "      <td>org:dissolved</td>\n",
       "      <td>OR</td>\n",
       "      <td>DA</td>\n",
       "    </tr>\n",
       "    <tr>\n",
       "      <th>4248</th>\n",
       "      <td>4249</td>\n",
       "      <td>1127년 정강의 변(금나라가 송나라를 멸망시키고 휘종, 흠종 황제를 끌고 간 사건...</td>\n",
       "      <td>송나라</td>\n",
       "      <td>1127년</td>\n",
       "      <td>(17, 19)</td>\n",
       "      <td>(0, 4)</td>\n",
       "      <td>org:dissolved</td>\n",
       "      <td>OR</td>\n",
       "      <td>DA</td>\n",
       "    </tr>\n",
       "    <tr>\n",
       "      <th>4486</th>\n",
       "      <td>4487</td>\n",
       "      <td>마침내, 2007년 6월 27일 중도개혁통합신당과 함께 중도통합민주당으로 신설합당하...</td>\n",
       "      <td>중도개혁통합신당</td>\n",
       "      <td>2007년 6월 27일</td>\n",
       "      <td>(18, 25)</td>\n",
       "      <td>(5, 16)</td>\n",
       "      <td>org:dissolved</td>\n",
       "      <td>OR</td>\n",
       "      <td>DA</td>\n",
       "    </tr>\n",
       "    <tr>\n",
       "      <th>4524</th>\n",
       "      <td>4525</td>\n",
       "      <td>마침내 기원전 206년에 항우가 진나라를 멸하고 각지에 제후왕들을 봉하면서 원래의 ...</td>\n",
       "      <td>진나라</td>\n",
       "      <td>기원전 206년</td>\n",
       "      <td>(18, 20)</td>\n",
       "      <td>(4, 11)</td>\n",
       "      <td>org:dissolved</td>\n",
       "      <td>OR</td>\n",
       "      <td>DA</td>\n",
       "    </tr>\n",
       "    <tr>\n",
       "      <th>4761</th>\n",
       "      <td>4762</td>\n",
       "      <td>2007년을 끝으로 재정난을 이기지 못하고 이듬해 현대 유니콘스가 해체되면서, 은퇴...</td>\n",
       "      <td>현대 유니콘스</td>\n",
       "      <td>2007년</td>\n",
       "      <td>(28, 34)</td>\n",
       "      <td>(0, 4)</td>\n",
       "      <td>org:dissolved</td>\n",
       "      <td>OR</td>\n",
       "      <td>DA</td>\n",
       "    </tr>\n",
       "    <tr>\n",
       "      <th>...</th>\n",
       "      <td>...</td>\n",
       "      <td>...</td>\n",
       "      <td>...</td>\n",
       "      <td>...</td>\n",
       "      <td>...</td>\n",
       "      <td>...</td>\n",
       "      <td>...</td>\n",
       "      <td>...</td>\n",
       "      <td>...</td>\n",
       "    </tr>\n",
       "    <tr>\n",
       "      <th>32423</th>\n",
       "      <td>32465</td>\n",
       "      <td>한국당은 7일 오전 9시부터 오후 5시까지 진행된 원내대표 및 정책위의장 후보자 등...</td>\n",
       "      <td>유기준</td>\n",
       "      <td>부산 서구·동구</td>\n",
       "      <td>(93, 95)</td>\n",
       "      <td>(100, 107)</td>\n",
       "      <td>per:employee_of</td>\n",
       "      <td>PE</td>\n",
       "      <td>LO</td>\n",
       "    </tr>\n",
       "    <tr>\n",
       "      <th>32424</th>\n",
       "      <td>32466</td>\n",
       "      <td>법포는 다시 최시형, 서병학, 손병희 직계인 북접과 다시 서장옥, 전봉준, 김개남을...</td>\n",
       "      <td>최시형</td>\n",
       "      <td>손병희</td>\n",
       "      <td>(7, 9)</td>\n",
       "      <td>(17, 19)</td>\n",
       "      <td>per:colleagues</td>\n",
       "      <td>PE</td>\n",
       "      <td>PE</td>\n",
       "    </tr>\n",
       "    <tr>\n",
       "      <th>32425</th>\n",
       "      <td>32467</td>\n",
       "      <td>완도군(군수 신우철)이 국토교통부에서 실시한 '2019 교통문화지수 실태조사'에서 ...</td>\n",
       "      <td>완도군</td>\n",
       "      <td>신우철</td>\n",
       "      <td>(0, 2)</td>\n",
       "      <td>(7, 9)</td>\n",
       "      <td>org:top_members/employees</td>\n",
       "      <td>OR</td>\n",
       "      <td>PE</td>\n",
       "    </tr>\n",
       "    <tr>\n",
       "      <th>32426</th>\n",
       "      <td>32468</td>\n",
       "      <td>중앙일보, JTBC 회장을 지낸 이후 중앙홀딩스 회장, 재단법인 한반도평화만들기 이...</td>\n",
       "      <td>JTBC</td>\n",
       "      <td>중앙홀딩스</td>\n",
       "      <td>(6, 9)</td>\n",
       "      <td>(21, 25)</td>\n",
       "      <td>no_relation</td>\n",
       "      <td>OR</td>\n",
       "      <td>OR</td>\n",
       "    </tr>\n",
       "    <tr>\n",
       "      <th>32427</th>\n",
       "      <td>32469</td>\n",
       "      <td>화순군(군수 구충곤)은 17일 동면의 이장 20여 명이 코로나 19 예방을 위해 버...</td>\n",
       "      <td>화순군</td>\n",
       "      <td>구충곤</td>\n",
       "      <td>(0, 2)</td>\n",
       "      <td>(7, 9)</td>\n",
       "      <td>org:top_members/employees</td>\n",
       "      <td>OR</td>\n",
       "      <td>PE</td>\n",
       "    </tr>\n",
       "  </tbody>\n",
       "</table>\n",
       "<p>25954 rows × 9 columns</p>\n",
       "</div>"
      ],
      "text/plain": [
       "          id                                           sentence  \\\n",
       "3603    3604  청년당(靑年黨)은 2012년 3월 19일부터 2012년 4월 12일까지 존재했던 대...   \n",
       "4248    4249  1127년 정강의 변(금나라가 송나라를 멸망시키고 휘종, 흠종 황제를 끌고 간 사건...   \n",
       "4486    4487  마침내, 2007년 6월 27일 중도개혁통합신당과 함께 중도통합민주당으로 신설합당하...   \n",
       "4524    4525  마침내 기원전 206년에 항우가 진나라를 멸하고 각지에 제후왕들을 봉하면서 원래의 ...   \n",
       "4761    4762  2007년을 끝으로 재정난을 이기지 못하고 이듬해 현대 유니콘스가 해체되면서, 은퇴...   \n",
       "...      ...                                                ...   \n",
       "32423  32465  한국당은 7일 오전 9시부터 오후 5시까지 진행된 원내대표 및 정책위의장 후보자 등...   \n",
       "32424  32466  법포는 다시 최시형, 서병학, 손병희 직계인 북접과 다시 서장옥, 전봉준, 김개남을...   \n",
       "32425  32467  완도군(군수 신우철)이 국토교통부에서 실시한 '2019 교통문화지수 실태조사'에서 ...   \n",
       "32426  32468  중앙일보, JTBC 회장을 지낸 이후 중앙홀딩스 회장, 재단법인 한반도평화만들기 이...   \n",
       "32427  32469  화순군(군수 구충곤)은 17일 동면의 이장 20여 명이 코로나 19 예방을 위해 버...   \n",
       "\n",
       "      subject_entity object_entity subject_span object_span  \\\n",
       "3603             청년당  2012년 4월 12일       (0, 2)    (25, 36)   \n",
       "4248             송나라         1127년     (17, 19)      (0, 4)   \n",
       "4486        중도개혁통합신당  2007년 6월 27일     (18, 25)     (5, 16)   \n",
       "4524             진나라      기원전 206년     (18, 20)     (4, 11)   \n",
       "4761         현대 유니콘스         2007년     (28, 34)      (0, 4)   \n",
       "...              ...           ...          ...         ...   \n",
       "32423            유기준      부산 서구·동구     (93, 95)  (100, 107)   \n",
       "32424            최시형           손병희       (7, 9)    (17, 19)   \n",
       "32425            완도군           신우철       (0, 2)      (7, 9)   \n",
       "32426           JTBC         중앙홀딩스       (6, 9)    (21, 25)   \n",
       "32427            화순군           구충곤       (0, 2)      (7, 9)   \n",
       "\n",
       "                           label subject_tag object_tag  \n",
       "3603               org:dissolved          OR         DA  \n",
       "4248               org:dissolved          OR         DA  \n",
       "4486               org:dissolved          OR         DA  \n",
       "4524               org:dissolved          OR         DA  \n",
       "4761               org:dissolved          OR         DA  \n",
       "...                          ...         ...        ...  \n",
       "32423            per:employee_of          PE         LO  \n",
       "32424             per:colleagues          PE         PE  \n",
       "32425  org:top_members/employees          OR         PE  \n",
       "32426                no_relation          OR         OR  \n",
       "32427  org:top_members/employees          OR         PE  \n",
       "\n",
       "[25954 rows x 9 columns]"
      ]
     },
     "execution_count": 17,
     "metadata": {},
     "output_type": "execute_result"
    }
   ],
   "source": [
    "train_dataset"
   ]
  },
  {
   "cell_type": "code",
   "execution_count": 5,
   "id": "ad756eb2",
   "metadata": {},
   "outputs": [],
   "source": [
    "pd_dataset = pd.read_csv(\"../dataset/train/alternate_train.csv\", sep='\\t')"
   ]
  },
  {
   "cell_type": "code",
   "execution_count": 12,
   "id": "6cb83c09",
   "metadata": {},
   "outputs": [
    {
     "name": "stdout",
     "output_type": "stream",
     "text": [
      "ORG\n",
      "{'word': '조지 해리슨', 'start_idx': 13, 'end_idx': 18, 'type': 'PER'}\n"
     ]
    }
   ],
   "source": [
    "for i,j in zip(pd_dataset['subject_entity'], pd_dataset['object_entity']):\n",
    "    print(eval(i)['type'])\n",
    "    print(eval(j)[])\n",
    "    break"
   ]
  },
  {
   "cell_type": "code",
   "execution_count": 5,
   "id": "9d968643",
   "metadata": {},
   "outputs": [],
   "source": [
    "import sys\n",
    "from models import *"
   ]
  },
  {
   "cell_type": "code",
   "execution_count": 6,
   "id": "273c2bf3",
   "metadata": {},
   "outputs": [],
   "source": [
    "MODEL_NAME =  \"klue/roberta-large\"\n",
    "ARCHITECTURE = \"TokenizerAndModelForKlueReTask\""
   ]
  },
  {
   "cell_type": "code",
   "execution_count": 7,
   "id": "21f37f41",
   "metadata": {},
   "outputs": [
    {
     "data": {
      "application/vnd.jupyter.widget-view+json": {
       "model_id": "841e6bec172c435cb1bc7cb9ab29afd6",
       "version_major": 2,
       "version_minor": 0
      },
      "text/plain": [
       "Downloading:   0%|          | 0.00/375 [00:00<?, ?B/s]"
      ]
     },
     "metadata": {},
     "output_type": "display_data"
    },
    {
     "data": {
      "application/vnd.jupyter.widget-view+json": {
       "model_id": "67857e9932af4b9fa95bb6e2f739f517",
       "version_major": 2,
       "version_minor": 0
      },
      "text/plain": [
       "Downloading:   0%|          | 0.00/243k [00:00<?, ?B/s]"
      ]
     },
     "metadata": {},
     "output_type": "display_data"
    },
    {
     "data": {
      "application/vnd.jupyter.widget-view+json": {
       "model_id": "812cdc8605684510b0a69a3f4fed8214",
       "version_major": 2,
       "version_minor": 0
      },
      "text/plain": [
       "Downloading:   0%|          | 0.00/734k [00:00<?, ?B/s]"
      ]
     },
     "metadata": {},
     "output_type": "display_data"
    },
    {
     "data": {
      "application/vnd.jupyter.widget-view+json": {
       "model_id": "923384dbb2f84332a4278c12c29023c2",
       "version_major": 2,
       "version_minor": 0
      },
      "text/plain": [
       "Downloading:   0%|          | 0.00/173 [00:00<?, ?B/s]"
      ]
     },
     "metadata": {},
     "output_type": "display_data"
    },
    {
     "data": {
      "application/vnd.jupyter.widget-view+json": {
       "model_id": "8f3bcf32f15a4e4e82d02e550c15b244",
       "version_major": 2,
       "version_minor": 0
      },
      "text/plain": [
       "Downloading:   0%|          | 0.00/547 [00:00<?, ?B/s]"
      ]
     },
     "metadata": {},
     "output_type": "display_data"
    },
    {
     "data": {
      "application/vnd.jupyter.widget-view+json": {
       "model_id": "b351f020b7cf471f8de54a46fc47eca3",
       "version_major": 2,
       "version_minor": 0
      },
      "text/plain": [
       "Downloading:   0%|          | 0.00/1.25G [00:00<?, ?B/s]"
      ]
     },
     "metadata": {},
     "output_type": "display_data"
    },
    {
     "name": "stderr",
     "output_type": "stream",
     "text": [
      "Some weights of the model checkpoint at klue/roberta-large were not used when initializing RobertaNotUsingClsForKlueReTask: ['lm_head.dense.weight', 'lm_head.decoder.weight', 'lm_head.layer_norm.bias', 'lm_head.layer_norm.weight', 'lm_head.dense.bias', 'lm_head.decoder.bias', 'lm_head.bias']\n",
      "- This IS expected if you are initializing RobertaNotUsingClsForKlueReTask from the checkpoint of a model trained on another task or with another architecture (e.g. initializing a BertForSequenceClassification model from a BertForPreTraining model).\n",
      "- This IS NOT expected if you are initializing RobertaNotUsingClsForKlueReTask from the checkpoint of a model that you expect to be exactly identical (initializing a BertForSequenceClassification model from a BertForSequenceClassification model).\n",
      "Some weights of RobertaNotUsingClsForKlueReTask were not initialized from the model checkpoint at klue/roberta-large and are newly initialized: ['classifier.out_proj.bias', 'roberta.embeddings.entity_embeddings.weight', 'classifier.out_proj.weight', 'classifier.dense.weight', 'classifier.dense.bias']\n",
      "You should probably TRAIN this model on a down-stream task to be able to use it for predictions and inference.\n"
     ]
    }
   ],
   "source": [
    "tokenizer, model = getattr(sys.modules[__name__], ARCHITECTURE)(MODEL_NAME)"
   ]
  },
  {
   "cell_type": "code",
   "execution_count": 8,
   "id": "a43b7562",
   "metadata": {},
   "outputs": [],
   "source": [
    "tokenizer = AutoTokenizer.from_pretrained(MODEL_NAME)\n",
    "subj_entity_list = ['ORG', 'PER']\n",
    "obj_entity_list = ['PER', 'ORG', 'DAT', 'LOC', 'POH', 'NOH']\n",
    "additional_special_tokens = []\n",
    "\n",
    "for sub_entity in subj_entity_list:\n",
    "    additional_special_tokens.append(\"[SUBJ:\" + sub_entity + \"]\")\n",
    "    additional_special_tokens.append(\"[/SUBJ:\" + sub_entity + \"]\")\n",
    "for obj_entity in obj_entity_list:\n",
    "    additional_special_tokens.append(\"[OBJ:\" + obj_entity + \"]\")\n",
    "    additional_special_tokens.append(\"[/OBJ:\" + obj_entity + \"]\")\n",
    "\n",
    "added_token_num = tokenizer.add_special_tokens({\"additional_special_tokens\": additional_special_tokens})"
   ]
  },
  {
   "cell_type": "code",
   "execution_count": 9,
   "id": "35e2287d",
   "metadata": {},
   "outputs": [
    {
     "data": {
      "text/plain": [
       "16"
      ]
     },
     "execution_count": 9,
     "metadata": {},
     "output_type": "execute_result"
    }
   ],
   "source": [
    "added_token_num"
   ]
  },
  {
   "cell_type": "code",
   "execution_count": 13,
   "id": "4baa6653",
   "metadata": {},
   "outputs": [
    {
     "data": {
      "text/plain": [
       "16"
      ]
     },
     "execution_count": 13,
     "metadata": {},
     "output_type": "execute_result"
    }
   ],
   "source": [
    "len(tokenizer._additional_special_tokens)"
   ]
  },
  {
   "cell_type": "code",
   "execution_count": 14,
   "id": "2793760a",
   "metadata": {},
   "outputs": [
    {
     "data": {
      "text/plain": [
       "0"
      ]
     },
     "execution_count": 14,
     "metadata": {},
     "output_type": "execute_result"
    }
   ],
   "source": [
    "tokenizer.add_special_tokens({\"additional_special_tokens\": additional_special_tokens})"
   ]
  },
  {
   "cell_type": "code",
   "execution_count": 15,
   "id": "ca2a3e20",
   "metadata": {},
   "outputs": [
    {
     "data": {
      "text/plain": [
       "['[SUBJ:ORG]',\n",
       " '[/SUBJ:ORG]',\n",
       " '[SUBJ:PER]',\n",
       " '[/SUBJ:PER]',\n",
       " '[OBJ:PER]',\n",
       " '[/OBJ:PER]',\n",
       " '[OBJ:ORG]',\n",
       " '[/OBJ:ORG]',\n",
       " '[OBJ:DAT]',\n",
       " '[/OBJ:DAT]',\n",
       " '[OBJ:LOC]',\n",
       " '[/OBJ:LOC]',\n",
       " '[OBJ:POH]',\n",
       " '[/OBJ:POH]',\n",
       " '[OBJ:NOH]',\n",
       " '[/OBJ:NOH]']"
      ]
     },
     "execution_count": 15,
     "metadata": {},
     "output_type": "execute_result"
    }
   ],
   "source": [
    "tokenizer._additional_special_tokens"
   ]
  },
  {
   "cell_type": "code",
   "execution_count": 16,
   "id": "ac96d2d6",
   "metadata": {},
   "outputs": [
    {
     "data": {
      "text/plain": [
       "16"
      ]
     },
     "execution_count": 16,
     "metadata": {},
     "output_type": "execute_result"
    }
   ],
   "source": [
    "len(tokenizer._additional_special_tokens)"
   ]
  },
  {
   "cell_type": "code",
   "execution_count": 17,
   "id": "ea324d07",
   "metadata": {},
   "outputs": [
    {
     "data": {
      "text/plain": [
       "32000"
      ]
     },
     "execution_count": 17,
     "metadata": {},
     "output_type": "execute_result"
    }
   ],
   "source": [
    "tokenizer.vocab_size"
   ]
  },
  {
   "cell_type": "code",
   "execution_count": 18,
   "id": "2568070c",
   "metadata": {},
   "outputs": [],
   "source": [
    "tokenizer2 = AutoTokenizer.from_pretrained(MODEL_NAME)"
   ]
  },
  {
   "cell_type": "code",
   "execution_count": 21,
   "id": "9a98cb76",
   "metadata": {},
   "outputs": [
    {
     "data": {
      "text/plain": [
       "32016"
      ]
     },
     "execution_count": 21,
     "metadata": {},
     "output_type": "execute_result"
    }
   ],
   "source": [
    "tokenizer2.vocab_size + len(tokenizer._additional_special_tokens)"
   ]
  },
  {
   "cell_type": "code",
   "execution_count": null,
   "id": "5c690826",
   "metadata": {},
   "outputs": [],
   "source": [
    "tokenizer.add_special_tokens({\"additional_special_tokens\": additional_special_tokens})"
   ]
  },
  {
   "cell_type": "code",
   "execution_count": 22,
   "id": "b5600448",
   "metadata": {},
   "outputs": [
    {
     "data": {
      "text/plain": [
       "'klue/roberta-large'"
      ]
     },
     "execution_count": 22,
     "metadata": {},
     "output_type": "execute_result"
    }
   ],
   "source": [
    "MODEL_NAME"
   ]
  },
  {
   "cell_type": "code",
   "execution_count": null,
   "id": "5c3044b4",
   "metadata": {},
   "outputs": [],
   "source": []
  },
  {
   "cell_type": "code",
   "execution_count": 23,
   "id": "9d79b023",
   "metadata": {},
   "outputs": [
    {
     "name": "stderr",
     "output_type": "stream",
     "text": [
      "Some weights of the model checkpoint at klue/roberta-large were not used when initializing RobertaNotUsingClsForKlueReTask: ['lm_head.dense.weight', 'lm_head.decoder.weight', 'lm_head.layer_norm.bias', 'lm_head.layer_norm.weight', 'lm_head.dense.bias', 'lm_head.decoder.bias', 'lm_head.bias']\n",
      "- This IS expected if you are initializing RobertaNotUsingClsForKlueReTask from the checkpoint of a model trained on another task or with another architecture (e.g. initializing a BertForSequenceClassification model from a BertForPreTraining model).\n",
      "- This IS NOT expected if you are initializing RobertaNotUsingClsForKlueReTask from the checkpoint of a model that you expect to be exactly identical (initializing a BertForSequenceClassification model from a BertForSequenceClassification model).\n",
      "Some weights of RobertaNotUsingClsForKlueReTask were not initialized from the model checkpoint at klue/roberta-large and are newly initialized: ['classifier.out_proj.bias', 'roberta.embeddings.entity_embeddings.weight', 'classifier.out_proj.weight', 'classifier.dense.weight', 'classifier.dense.bias']\n",
      "You should probably TRAIN this model on a down-stream task to be able to use it for predictions and inference.\n"
     ]
    }
   ],
   "source": [
    "tokenizer, _ = getattr(sys.modules[__name__], ARCHITECTURE)(MODEL_NAME)"
   ]
  },
  {
   "cell_type": "code",
   "execution_count": 24,
   "id": "c555413c",
   "metadata": {},
   "outputs": [
    {
     "data": {
      "text/plain": [
       "32000"
      ]
     },
     "execution_count": 24,
     "metadata": {},
     "output_type": "execute_result"
    }
   ],
   "source": [
    "tokenizer.vocab_size"
   ]
  },
  {
   "cell_type": "code",
   "execution_count": 25,
   "id": "3d4d64ad",
   "metadata": {},
   "outputs": [
    {
     "data": {
      "text/plain": [
       "['[SUBJ:ORG]',\n",
       " '[/SUBJ:ORG]',\n",
       " '[SUBJ:PER]',\n",
       " '[/SUBJ:PER]',\n",
       " '[OBJ:PER]',\n",
       " '[/OBJ:PER]',\n",
       " '[OBJ:ORG]',\n",
       " '[/OBJ:ORG]',\n",
       " '[OBJ:DAT]',\n",
       " '[/OBJ:DAT]',\n",
       " '[OBJ:LOC]',\n",
       " '[/OBJ:LOC]',\n",
       " '[OBJ:POH]',\n",
       " '[/OBJ:POH]',\n",
       " '[OBJ:NOH]',\n",
       " '[/OBJ:NOH]']"
      ]
     },
     "execution_count": 25,
     "metadata": {},
     "output_type": "execute_result"
    }
   ],
   "source": [
    "tokenizer._additional_special_tokens"
   ]
  },
  {
   "cell_type": "code",
   "execution_count": 26,
   "id": "9a6dc78f",
   "metadata": {},
   "outputs": [
    {
     "data": {
      "text/plain": [
       "{'input_ids': [0, 32005, 14172, 2039, 2009, 5199, 2039, 2009, 68, 71, 2041, 9292, 2041, 84, 2175, 2039, 2175, 2039, 2009, 5199, 2039, 32015, 2], 'token_type_ids': [0, 0, 0, 0, 0, 0, 0, 0, 0, 0, 0, 0, 0, 0, 0, 0, 0, 0, 0, 0, 0, 0, 0], 'attention_mask': [1, 1, 1, 1, 1, 1, 1, 1, 1, 1, 1, 1, 1, 1, 1, 1, 1, 1, 1, 1, 1, 1, 1]}"
      ]
     },
     "execution_count": 26,
     "metadata": {},
     "output_type": "execute_result"
    }
   ],
   "source": [
    "tokenizer('[/OBJ:PER] asdfasdf a dsafs qwdwdfasd [/OBJ:NOH]')"
   ]
  },
  {
   "cell_type": "code",
   "execution_count": 29,
   "id": "4a40742e",
   "metadata": {},
   "outputs": [
    {
     "data": {
      "text/plain": [
       "'[CLS] [/OBJ:PER] asdfasdf a dsafs qwdwdfasd [/OBJ:NOH] [SEP]'"
      ]
     },
     "execution_count": 29,
     "metadata": {},
     "output_type": "execute_result"
    }
   ],
   "source": [
    "tokenizer.decode(tokenizer('[/OBJ:PER] asdfasdf a dsafs qwdwdfasd [/OBJ:NOH]')['input_ids'])"
   ]
  },
  {
   "cell_type": "code",
   "execution_count": 30,
   "id": "dc666c02",
   "metadata": {},
   "outputs": [
    {
     "data": {
      "text/plain": [
       "'[/OBJ:PER]'"
      ]
     },
     "execution_count": 30,
     "metadata": {},
     "output_type": "execute_result"
    }
   ],
   "source": [
    "tokenizer.decode([32005])"
   ]
  },
  {
   "cell_type": "code",
   "execution_count": null,
   "id": "aee218b9",
   "metadata": {},
   "outputs": [],
   "source": []
  }
 ],
 "metadata": {
  "kernelspec": {
   "display_name": "py38_transformers",
   "language": "python",
   "name": "py38"
  },
  "language_info": {
   "codemirror_mode": {
    "name": "ipython",
    "version": 3
   },
   "file_extension": ".py",
   "mimetype": "text/x-python",
   "name": "python",
   "nbconvert_exporter": "python",
   "pygments_lexer": "ipython3",
   "version": "3.8.12"
  }
 },
 "nbformat": 4,
 "nbformat_minor": 5
}
