{
 "cells": [
  {
   "cell_type": "code",
   "execution_count": 11,
   "id": "1e2b1218",
   "metadata": {},
   "outputs": [],
   "source": [
    "from models import *"
   ]
  },
  {
   "cell_type": "code",
   "execution_count": 12,
   "id": "e1903cbe",
   "metadata": {},
   "outputs": [],
   "source": [
    "result = hasattr(models, 'TokenizerAndModelForKlueReTask')"
   ]
  },
  {
   "cell_type": "code",
   "execution_count": 13,
   "id": "bcc25fa4",
   "metadata": {},
   "outputs": [
    {
     "data": {
      "text/plain": [
       "False"
      ]
     },
     "execution_count": 13,
     "metadata": {},
     "output_type": "execute_result"
    }
   ],
   "source": [
    "result"
   ]
  },
  {
   "cell_type": "code",
   "execution_count": 14,
   "id": "a666b6fe",
   "metadata": {},
   "outputs": [
    {
     "ename": "AttributeError",
     "evalue": "module 'models' has no attribute 'TokenizerAndModelForKlueReTask'",
     "output_type": "error",
     "traceback": [
      "\u001b[0;31m---------------------------------------------------------------------------\u001b[0m",
      "\u001b[0;31mAttributeError\u001b[0m                            Traceback (most recent call last)",
      "\u001b[0;32m/var/folders/46/94mtqk_n4x74p14rc4c63cnr0000gn/T/ipykernel_95757/1852373626.py\u001b[0m in \u001b[0;36m<module>\u001b[0;34m\u001b[0m\n\u001b[1;32m      1\u001b[0m \u001b[0;32mimport\u001b[0m \u001b[0mmodels\u001b[0m\u001b[0;34m\u001b[0m\u001b[0;34m\u001b[0m\u001b[0m\n\u001b[0;32m----> 2\u001b[0;31m \u001b[0mmethod_to_call\u001b[0m \u001b[0;34m=\u001b[0m \u001b[0mgetattr\u001b[0m\u001b[0;34m(\u001b[0m\u001b[0mmodels\u001b[0m\u001b[0;34m,\u001b[0m \u001b[0;34m'TokenizerAndModelForKlueReTask'\u001b[0m\u001b[0;34m)\u001b[0m\u001b[0;34m\u001b[0m\u001b[0;34m\u001b[0m\u001b[0m\n\u001b[0m\u001b[1;32m      3\u001b[0m \u001b[0;31m# result = method_to_call()\u001b[0m\u001b[0;34m\u001b[0m\u001b[0;34m\u001b[0m\u001b[0;34m\u001b[0m\u001b[0m\n",
      "\u001b[0;31mAttributeError\u001b[0m: module 'models' has no attribute 'TokenizerAndModelForKlueReTask'"
     ]
    }
   ],
   "source": [
    "import models\n",
    "method_to_call = getattr(models, 'TokenizerAndModelForKlueReTask')\n",
    "# result = method_to_call()"
   ]
  },
  {
   "cell_type": "code",
   "execution_count": 17,
   "id": "a0eeb408",
   "metadata": {},
   "outputs": [],
   "source": [
    "import load_data"
   ]
  },
  {
   "cell_type": "code",
   "execution_count": 19,
   "id": "06b1ba94",
   "metadata": {},
   "outputs": [
    {
     "data": {
      "text/plain": [
       "<function load_data.tokenized_dataset_entity(dataset, tokenizer)>"
      ]
     },
     "execution_count": 19,
     "metadata": {},
     "output_type": "execute_result"
    }
   ],
   "source": [
    "getattr(load_data, 'tokenized_dataset_entity')"
   ]
  },
  {
   "cell_type": "code",
   "execution_count": null,
   "id": "aec9a282",
   "metadata": {},
   "outputs": [],
   "source": [
    "vars(models)\n",
    "inspect.getmembers(\"models\")"
   ]
  },
  {
   "cell_type": "code",
   "execution_count": null,
   "id": "101f9037",
   "metadata": {},
   "outputs": [],
   "source": [
    "import sys\n",
    "current_module = sys.modules[models]"
   ]
  },
  {
   "cell_type": "code",
   "execution_count": null,
   "id": "6d962932",
   "metadata": {},
   "outputs": [],
   "source": [
    "__name__"
   ]
  },
  {
   "cell_type": "code",
   "execution_count": null,
   "id": "f915ef52",
   "metadata": {},
   "outputs": [],
   "source": [
    "import inspect"
   ]
  },
  {
   "cell_type": "code",
   "execution_count": null,
   "id": "8ca959e2",
   "metadata": {},
   "outputs": [],
   "source": [
    "inspect.getmembers(\"models\")"
   ]
  },
  {
   "cell_type": "code",
   "execution_count": null,
   "id": "1b6973c7",
   "metadata": {},
   "outputs": [],
   "source": []
  }
 ],
 "metadata": {
  "kernelspec": {
   "display_name": "py38_transformers",
   "language": "python",
   "name": "py38"
  },
  "language_info": {
   "codemirror_mode": {
    "name": "ipython",
    "version": 3
   },
   "file_extension": ".py",
   "mimetype": "text/x-python",
   "name": "python",
   "nbconvert_exporter": "python",
   "pygments_lexer": "ipython3",
   "version": "3.8.12"
  }
 },
 "nbformat": 4,
 "nbformat_minor": 5
}
