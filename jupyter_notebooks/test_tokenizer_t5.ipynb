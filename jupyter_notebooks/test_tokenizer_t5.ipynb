{
 "cells": [
  {
   "cell_type": "code",
   "execution_count": 4,
   "id": "525619bd",
   "metadata": {},
   "outputs": [],
   "source": [
    "from transformers import MT5Tokenizer, MT5EncoderModel"
   ]
  },
  {
   "cell_type": "code",
   "execution_count": 30,
   "id": "434eece1",
   "metadata": {},
   "outputs": [
    {
     "name": "stderr",
     "output_type": "stream",
     "text": [
      "Downloading: 100%|█████████████████████████████████████████████████████████████████████████████████████████████████████████████████████████████████████████████████████████████████████████████████████████████████████████████████████████████████████████████████████████████████| 4.11M/4.11M [00:01<00:00, 2.43MB/s]\n",
      "Downloading: 100%|███████████████████████████████████████████████████████████████████████████████████████████████████████████████████████████████████████████████████████████████████████████████████████████████████████████████████████████████████████████████████████████████████| 65.0/65.0 [00:00<00:00, 49.6kB/s]\n",
      "Downloading: 100%|██████████████████████████████████████████████████████████████████████████████████████████████████████████████████████████████████████████████████████████████████████████████████████████████████████████████████████████████████████████████████████████████████████| 376/376 [00:00<00:00, 262kB/s]\n",
      "Downloading: 100%|██████████████████████████████████████████████████████████████████████████████████████████████████████████████████████████████████████████████████████████████████████████████████████████████████████████████████████████████████████████████████████████████████████| 702/702 [00:00<00:00, 499kB/s]\n"
     ]
    }
   ],
   "source": [
    "t5_large_tokenizer = MT5Tokenizer.from_pretrained(\"google/mt5-large\")\n",
    "t5_base_tokenizer = MT5Tokenizer.from_pretrained(\"google/mt5-base\")\n",
    "t5_small_tokenizer = MT5Tokenizer.from_pretrained(\"google/mt5-small\")"
   ]
  },
  {
   "cell_type": "code",
   "execution_count": 33,
   "id": "78cad0b0",
   "metadata": {},
   "outputs": [
    {
     "name": "stdout",
     "output_type": "stream",
     "text": [
      "250100\n",
      "250100\n",
      "250100\n"
     ]
    }
   ],
   "source": [
    "print(t5_large_tokenizer.vocab_size)\n",
    "print(t5_base_tokenizer.vocab_size)\n",
    "print(t5_small_tokenizer.vocab_size)"
   ]
  },
  {
   "cell_type": "code",
   "execution_count": 34,
   "id": "00724cdf",
   "metadata": {},
   "outputs": [
    {
     "data": {
      "text/plain": [
       "{'sp_model_kwargs': {},\n",
       " 'init_inputs': (),\n",
       " 'init_kwargs': {'eos_token': '</s>',\n",
       "  'unk_token': '<unk>',\n",
       "  'pad_token': '<pad>',\n",
       "  'extra_ids': 0,\n",
       "  'additional_special_tokens': None,\n",
       "  'sp_model_kwargs': {},\n",
       "  'special_tokens_map_file': '/home/patrick/.cache/torch/transformers/685ac0ca8568ec593a48b61b0a3c272beee9bc194a3c7241d15dcadb5f875e53.f76030f3ec1b96a8199b2593390c610e76ca8028ef3d24680000619ffb646276',\n",
       "  'tokenizer_file': None,\n",
       "  'name_or_path': 'google/mt5-large'},\n",
       " 'name_or_path': 'google/mt5-large',\n",
       " '_processor_class': None,\n",
       " 'model_max_length': 1000000000000000019884624838656,\n",
       " 'padding_side': 'right',\n",
       " 'truncation_side': 'right',\n",
       " 'model_input_names': ['input_ids', 'attention_mask'],\n",
       " 'deprecation_warnings': {},\n",
       " '_bos_token': None,\n",
       " '_eos_token': '</s>',\n",
       " '_unk_token': '<unk>',\n",
       " '_sep_token': None,\n",
       " '_pad_token': '<pad>',\n",
       " '_cls_token': None,\n",
       " '_mask_token': None,\n",
       " '_pad_token_type_id': 0,\n",
       " '_additional_special_tokens': [],\n",
       " 'verbose': True,\n",
       " 'added_tokens_encoder': {},\n",
       " 'added_tokens_decoder': {},\n",
       " 'unique_no_split_tokens': ['</s>', '<pad>', '<unk>'],\n",
       " 'tokens_trie': <transformers.tokenization_utils.Trie at 0x7f417efdf430>,\n",
       " '_decode_use_source_tokenizer': False,\n",
       " 'vocab_file': '/opt/ml/.cache/huggingface/transformers/d794bd649c4ceadde2cb19ef1dbe5b969cb3a8873021b4995a157e81e78106c8.84ea7af2df68dc8db434d3160aab65cce8ac63ce5b6f7743f8c9a4a14b4f77e2',\n",
       " '_extra_ids': 0,\n",
       " 'sp_model': <sentencepiece.SentencePieceProcessor; proxy of <Swig Object of type 'sentencepiece::SentencePieceProcessor *' at 0x7f417efdf9c0> >}"
      ]
     },
     "execution_count": 34,
     "metadata": {},
     "output_type": "execute_result"
    }
   ],
   "source": [
    "vars(t5_large_tokenizer)"
   ]
  },
  {
   "cell_type": "code",
   "execution_count": 6,
   "id": "3f0dc3d9",
   "metadata": {},
   "outputs": [
    {
     "name": "stderr",
     "output_type": "stream",
     "text": [
      "Downloading: 100%|█████████████████████████████████████████████████████████████████████████████████████████████████████████████████████████████████████████████████████████████████████████████████████████████████████████████████████████████████████████████████████████████████| 1.12G/1.12G [00:17<00:00, 68.5MB/s]\n",
      "Some weights of the model checkpoint at google/mt5-small were not used when initializing MT5EncoderModel: ['decoder.block.2.layer.1.EncDecAttention.k.weight', 'decoder.block.4.layer.1.EncDecAttention.v.weight', 'decoder.block.1.layer.0.SelfAttention.q.weight', 'decoder.block.6.layer.2.DenseReluDense.wi_1.weight', 'decoder.block.3.layer.1.EncDecAttention.q.weight', 'decoder.block.3.layer.1.EncDecAttention.v.weight', 'decoder.block.6.layer.0.SelfAttention.o.weight', 'decoder.block.1.layer.2.DenseReluDense.wi_1.weight', 'decoder.block.1.layer.0.layer_norm.weight', 'decoder.block.4.layer.2.DenseReluDense.wi_0.weight', 'decoder.block.2.layer.0.layer_norm.weight', 'decoder.block.4.layer.2.DenseReluDense.wi_1.weight', 'decoder.block.7.layer.1.EncDecAttention.k.weight', 'decoder.block.7.layer.1.EncDecAttention.v.weight', 'decoder.block.0.layer.0.SelfAttention.k.weight', 'decoder.block.7.layer.2.DenseReluDense.wi_0.weight', 'decoder.block.3.layer.1.layer_norm.weight', 'decoder.block.0.layer.1.EncDecAttention.v.weight', 'decoder.block.1.layer.2.DenseReluDense.wi_0.weight', 'decoder.block.5.layer.0.SelfAttention.v.weight', 'decoder.block.4.layer.0.layer_norm.weight', 'decoder.block.1.layer.2.DenseReluDense.wo.weight', 'decoder.block.3.layer.0.SelfAttention.k.weight', 'decoder.block.4.layer.1.layer_norm.weight', 'decoder.block.0.layer.1.EncDecAttention.o.weight', 'decoder.block.1.layer.1.EncDecAttention.v.weight', 'decoder.block.7.layer.1.layer_norm.weight', 'decoder.block.6.layer.1.EncDecAttention.v.weight', 'decoder.block.0.layer.1.EncDecAttention.q.weight', 'decoder.block.3.layer.2.DenseReluDense.wi_1.weight', 'decoder.block.5.layer.1.EncDecAttention.q.weight', 'decoder.block.0.layer.1.EncDecAttention.k.weight', 'decoder.block.1.layer.1.layer_norm.weight', 'decoder.block.0.layer.2.layer_norm.weight', 'decoder.block.5.layer.1.layer_norm.weight', 'decoder.block.3.layer.0.SelfAttention.o.weight', 'decoder.block.7.layer.2.DenseReluDense.wo.weight', 'decoder.block.5.layer.0.layer_norm.weight', 'decoder.block.7.layer.1.EncDecAttention.o.weight', 'decoder.block.2.layer.0.SelfAttention.v.weight', 'decoder.block.6.layer.1.EncDecAttention.q.weight', 'decoder.block.3.layer.1.EncDecAttention.k.weight', 'decoder.block.2.layer.0.SelfAttention.q.weight', 'decoder.block.7.layer.1.EncDecAttention.q.weight', 'decoder.block.5.layer.2.layer_norm.weight', 'lm_head.weight', 'decoder.block.4.layer.0.SelfAttention.v.weight', 'decoder.block.2.layer.1.EncDecAttention.q.weight', 'decoder.block.1.layer.0.SelfAttention.v.weight', 'decoder.block.4.layer.1.EncDecAttention.o.weight', 'decoder.block.5.layer.0.SelfAttention.o.weight', 'decoder.block.2.layer.2.layer_norm.weight', 'decoder.block.6.layer.0.SelfAttention.k.weight', 'decoder.block.7.layer.0.layer_norm.weight', 'decoder.block.0.layer.2.DenseReluDense.wi_1.weight', 'decoder.block.7.layer.0.SelfAttention.k.weight', 'decoder.block.6.layer.1.EncDecAttention.k.weight', 'decoder.block.1.layer.1.EncDecAttention.o.weight', 'decoder.block.2.layer.2.DenseReluDense.wi_1.weight', 'decoder.block.6.layer.0.layer_norm.weight', 'decoder.block.3.layer.2.DenseReluDense.wi_0.weight', 'decoder.block.5.layer.1.EncDecAttention.v.weight', 'decoder.block.5.layer.1.EncDecAttention.o.weight', 'decoder.block.4.layer.2.DenseReluDense.wo.weight', 'decoder.block.4.layer.1.EncDecAttention.k.weight', 'decoder.block.2.layer.2.DenseReluDense.wo.weight', 'decoder.block.6.layer.0.SelfAttention.v.weight', 'decoder.block.0.layer.0.SelfAttention.relative_attention_bias.weight', 'decoder.final_layer_norm.weight', 'decoder.block.0.layer.0.layer_norm.weight', 'decoder.block.5.layer.0.SelfAttention.q.weight', 'decoder.block.3.layer.2.layer_norm.weight', 'decoder.block.4.layer.0.SelfAttention.q.weight', 'decoder.block.5.layer.2.DenseReluDense.wo.weight', 'decoder.block.4.layer.0.SelfAttention.k.weight', 'decoder.block.6.layer.2.layer_norm.weight', 'decoder.block.5.layer.1.EncDecAttention.k.weight', 'decoder.block.0.layer.1.layer_norm.weight', 'decoder.block.7.layer.0.SelfAttention.q.weight', 'decoder.block.2.layer.1.EncDecAttention.v.weight', 'decoder.block.5.layer.0.SelfAttention.k.weight', 'decoder.block.3.layer.0.SelfAttention.q.weight', 'decoder.block.4.layer.1.EncDecAttention.q.weight', 'decoder.block.7.layer.0.SelfAttention.o.weight', 'decoder.block.4.layer.0.SelfAttention.o.weight', 'decoder.block.1.layer.1.EncDecAttention.q.weight', 'decoder.block.2.layer.1.layer_norm.weight', 'decoder.block.1.layer.2.layer_norm.weight', 'decoder.block.1.layer.1.EncDecAttention.k.weight', 'decoder.block.3.layer.1.EncDecAttention.o.weight', 'decoder.block.7.layer.2.layer_norm.weight', 'decoder.block.6.layer.2.DenseReluDense.wi_0.weight', 'decoder.block.2.layer.1.EncDecAttention.o.weight', 'decoder.block.6.layer.0.SelfAttention.q.weight', 'decoder.block.7.layer.2.DenseReluDense.wi_1.weight', 'decoder.block.6.layer.1.EncDecAttention.o.weight', 'decoder.block.7.layer.0.SelfAttention.v.weight', 'decoder.block.5.layer.2.DenseReluDense.wi_1.weight', 'decoder.block.6.layer.2.DenseReluDense.wo.weight', 'decoder.embed_tokens.weight', 'decoder.block.6.layer.1.layer_norm.weight', 'decoder.block.3.layer.0.layer_norm.weight', 'decoder.block.0.layer.2.DenseReluDense.wo.weight', 'decoder.block.1.layer.0.SelfAttention.o.weight', 'decoder.block.0.layer.0.SelfAttention.q.weight', 'decoder.block.2.layer.2.DenseReluDense.wi_0.weight', 'decoder.block.2.layer.0.SelfAttention.o.weight', 'decoder.block.0.layer.0.SelfAttention.o.weight', 'decoder.block.1.layer.0.SelfAttention.k.weight', 'decoder.block.0.layer.0.SelfAttention.v.weight', 'decoder.block.5.layer.2.DenseReluDense.wi_0.weight', 'decoder.block.2.layer.0.SelfAttention.k.weight', 'decoder.block.3.layer.2.DenseReluDense.wo.weight', 'decoder.block.0.layer.2.DenseReluDense.wi_0.weight', 'decoder.block.4.layer.2.layer_norm.weight', 'decoder.block.3.layer.0.SelfAttention.v.weight']\n",
      "- This IS expected if you are initializing MT5EncoderModel from the checkpoint of a model trained on another task or with another architecture (e.g. initializing a BertForSequenceClassification model from a BertForPreTraining model).\n",
      "- This IS NOT expected if you are initializing MT5EncoderModel from the checkpoint of a model that you expect to be exactly identical (initializing a BertForSequenceClassification model from a BertForSequenceClassification model).\n"
     ]
    }
   ],
   "source": [
    "model = MT5EncoderModel.from_pretrained(\"google/mt5-small\")"
   ]
  },
  {
   "cell_type": "code",
   "execution_count": 13,
   "id": "22c3fd04",
   "metadata": {},
   "outputs": [],
   "source": [
    "input_ids = tokenizer([\"안녕하세요\",\"누구신가요? 정말이상하네요!\"], return_tensors=\"pt\", padding=True).input_ids"
   ]
  },
  {
   "cell_type": "code",
   "execution_count": 15,
   "id": "d3789178",
   "metadata": {},
   "outputs": [
    {
     "data": {
      "text/plain": [
       "'누구신가요? 정말이상하네요!</s>'"
      ]
     },
     "execution_count": 15,
     "metadata": {},
     "output_type": "execute_result"
    }
   ],
   "source": [
    "tokenizer.decode(input_ids[1])"
   ]
  },
  {
   "cell_type": "code",
   "execution_count": 16,
   "id": "ceb847a8",
   "metadata": {},
   "outputs": [
    {
     "data": {
      "text/plain": [
       "{'sp_model_kwargs': {},\n",
       " 'init_inputs': (),\n",
       " 'init_kwargs': {'eos_token': '</s>',\n",
       "  'unk_token': '<unk>',\n",
       "  'pad_token': '<pad>',\n",
       "  'extra_ids': 0,\n",
       "  'additional_special_tokens': None,\n",
       "  'sp_model_kwargs': {},\n",
       "  'special_tokens_map_file': '/opt/ml/.cache/huggingface/transformers/685ac0ca8568ec593a48b61b0a3c272beee9bc194a3c7241d15dcadb5f875e53.f76030f3ec1b96a8199b2593390c610e76ca8028ef3d24680000619ffb646276',\n",
       "  'name_or_path': 'google/mt5-small'},\n",
       " 'name_or_path': 'google/mt5-small',\n",
       " '_processor_class': None,\n",
       " 'model_max_length': 1000000000000000019884624838656,\n",
       " 'padding_side': 'right',\n",
       " 'truncation_side': 'right',\n",
       " 'model_input_names': ['input_ids', 'attention_mask'],\n",
       " 'deprecation_warnings': {},\n",
       " '_bos_token': None,\n",
       " '_eos_token': '</s>',\n",
       " '_unk_token': '<unk>',\n",
       " '_sep_token': None,\n",
       " '_pad_token': '<pad>',\n",
       " '_cls_token': None,\n",
       " '_mask_token': None,\n",
       " '_pad_token_type_id': 0,\n",
       " '_additional_special_tokens': [],\n",
       " 'verbose': True,\n",
       " 'added_tokens_encoder': {},\n",
       " 'added_tokens_decoder': {},\n",
       " 'unique_no_split_tokens': ['</s>', '<pad>', '<unk>'],\n",
       " 'tokens_trie': <transformers.tokenization_utils.Trie at 0x7f40dddbe0a0>,\n",
       " '_decode_use_source_tokenizer': False,\n",
       " 'vocab_file': '/opt/ml/.cache/huggingface/transformers/37d0f67f084f8c5fc5589e0bba5ff3c6307af833bb0b7f4eb33fbfd8d4038a9d.84ea7af2df68dc8db434d3160aab65cce8ac63ce5b6f7743f8c9a4a14b4f77e2',\n",
       " '_extra_ids': 0,\n",
       " 'sp_model': <sentencepiece.SentencePieceProcessor; proxy of <Swig Object of type 'sentencepiece::SentencePieceProcessor *' at 0x7f40dddbe570> >}"
      ]
     },
     "execution_count": 16,
     "metadata": {},
     "output_type": "execute_result"
    }
   ],
   "source": [
    "vars(tokenizer)"
   ]
  },
  {
   "cell_type": "code",
   "execution_count": 28,
   "id": "5bcfc442",
   "metadata": {},
   "outputs": [],
   "source": [
    "input_ids = tokenizer_large.tokenize(\"<x> hihi </x> <y> as </y>\")"
   ]
  },
  {
   "cell_type": "code",
   "execution_count": 29,
   "id": "f43649d3",
   "metadata": {},
   "outputs": [
    {
     "data": {
      "text/plain": [
       "['▁<',\n",
       " 'x',\n",
       " '>',\n",
       " '▁hihi',\n",
       " '▁</',\n",
       " 'x',\n",
       " '>',\n",
       " '▁<',\n",
       " 'y',\n",
       " '>',\n",
       " '▁as',\n",
       " '▁</',\n",
       " 'y',\n",
       " '>']"
      ]
     },
     "execution_count": 29,
     "metadata": {},
     "output_type": "execute_result"
    }
   ],
   "source": [
    "input_ids"
   ]
  },
  {
   "cell_type": "code",
   "execution_count": 22,
   "id": "81c91f60",
   "metadata": {},
   "outputs": [
    {
     "data": {
      "text/plain": [
       "'<x> hihi </x> <y> as </y></s>'"
      ]
     },
     "execution_count": 22,
     "metadata": {},
     "output_type": "execute_result"
    }
   ],
   "source": [
    "tokenizer.decode(input_ids[0])"
   ]
  },
  {
   "cell_type": "code",
   "execution_count": 9,
   "id": "d43b6c13",
   "metadata": {},
   "outputs": [
    {
     "data": {
      "text/plain": [
       "{'last_hidden_state': tensor([[[ 0.1062,  0.2351,  0.1287,  ...,  0.0638, -0.4603, -0.4259],\n",
       "          [ 0.1250, -0.2894,  0.1927,  ...,  0.0912, -0.3621, -0.3629],\n",
       "          [ 0.1952, -0.1066,  0.2537,  ..., -0.0110, -0.3837, -0.1914],\n",
       "          [-0.0296, -0.0175,  0.0165,  ..., -0.0276,  0.0093,  0.0197],\n",
       "          [ 0.2729, -0.7559,  0.1382,  ..., -0.5102, -0.0903,  0.2486],\n",
       "          [-0.0267, -0.2411,  0.0220,  ..., -0.2237, -0.0821,  0.0171]],\n",
       " \n",
       "         [[-0.1907,  0.1441,  0.0122,  ..., -0.0804, -0.4853,  0.1812],\n",
       "          [-0.1035, -0.3639,  0.0728,  ...,  0.2160, -0.3789, -0.0175],\n",
       "          [ 0.2533,  0.0898,  0.0841,  ...,  0.1728, -0.2257, -0.5208],\n",
       "          [ 0.4812, -0.4296, -0.3416,  ...,  0.1711,  0.0618, -0.2777],\n",
       "          [-0.2973, -0.5430, -0.0868,  ..., -0.1383, -0.2118,  0.2868],\n",
       "          [-0.0369, -0.0249,  0.0058,  ..., -0.0262, -0.0040,  0.0239]]],\n",
       "        grad_fn=<MulBackward0>),\n",
       " 'past_key_values': None,\n",
       " 'hidden_states': None,\n",
       " 'attentions': None,\n",
       " 'cross_attentions': None}"
      ]
     },
     "execution_count": 9,
     "metadata": {},
     "output_type": "execute_result"
    }
   ],
   "source": [
    "vars(outputs)"
   ]
  },
  {
   "cell_type": "code",
   "execution_count": null,
   "id": "4a57dd40",
   "metadata": {},
   "outputs": [],
   "source": []
  }
 ],
 "metadata": {
  "kernelspec": {
   "display_name": "py38",
   "language": "python",
   "name": "py38"
  },
  "language_info": {
   "codemirror_mode": {
    "name": "ipython",
    "version": 3
   },
   "file_extension": ".py",
   "mimetype": "text/x-python",
   "name": "python",
   "nbconvert_exporter": "python",
   "pygments_lexer": "ipython3",
   "version": "3.8.12"
  }
 },
 "nbformat": 4,
 "nbformat_minor": 5
}
