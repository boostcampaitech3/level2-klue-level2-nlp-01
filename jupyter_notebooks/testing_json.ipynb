{
 "cells": [
  {
   "cell_type": "code",
   "execution_count": 1,
   "id": "24e3d8d3",
   "metadata": {},
   "outputs": [],
   "source": [
    "import argparse\n",
    "import json\n",
    "import os\n",
    "from pprint import pprint"
   ]
  },
  {
   "cell_type": "code",
   "execution_count": 2,
   "id": "9f628fc7",
   "metadata": {},
   "outputs": [],
   "source": [
    "parser = argparse.ArgumentParser()"
   ]
  },
  {
   "cell_type": "code",
   "execution_count": 3,
   "id": "ff62f16a",
   "metadata": {},
   "outputs": [
    {
     "data": {
      "text/plain": [
       "_StoreAction(option_strings=['--config'], dest='config', nargs=None, const=None, default='../configs/train_config.json', type=None, choices=None, help='config.json file', metavar=None)"
      ]
     },
     "execution_count": 3,
     "metadata": {},
     "output_type": "execute_result"
    }
   ],
   "source": [
    "parser.add_argument('--config', default='../configs/train_config.json', help='config.json file')"
   ]
  },
  {
   "cell_type": "code",
   "execution_count": 4,
   "id": "2621f697",
   "metadata": {},
   "outputs": [],
   "source": [
    "def read_json(file):\n",
    "    with open(file) as json_file:\n",
    "        data = json.load(json_file)\n",
    "    return data"
   ]
  },
  {
   "cell_type": "code",
   "execution_count": 5,
   "id": "5c739e82",
   "metadata": {},
   "outputs": [
    {
     "name": "stdout",
     "output_type": "stream",
     "text": [
      "{'config': '../configs/train_config.json'}\n"
     ]
    }
   ],
   "source": [
    "args = parser.parse_args([])\n",
    "pprint(vars(args))"
   ]
  },
  {
   "cell_type": "code",
   "execution_count": 6,
   "id": "fac640f0",
   "metadata": {},
   "outputs": [
    {
     "name": "stdout",
     "output_type": "stream",
     "text": [
      "{'DataArguments': {},\n",
      " 'LoggingArguments': {},\n",
      " 'ModelArguments': {},\n",
      " 'TrainingArguments': {'do_eval': True,\n",
      "                       'do_predict': True,\n",
      "                       'do_train': True,\n",
      "                       'evaluation_strategy': 'epoch',\n",
      "                       'fp16': True,\n",
      "                       'learning_rate': 3e-05,\n",
      "                       'load_best_model_at_end': True,\n",
      "                       'logging_dir': './logs',\n",
      "                       'lr_scheduler_type': 'linear',\n",
      "                       'metric_for_best_model': 'micro_f1',\n",
      "                       'num_train_epochs': 5,\n",
      "                       'output_dir': './models',\n",
      "                       'per_device_eval_batch_size': 32,\n",
      "                       'per_device_train_batch_size': 32,\n",
      "                       'report_to': 'wandb',\n",
      "                       'run_name': 'bert_finetunning',\n",
      "                       'save_strategy': 'epoch',\n",
      "                       'save_total_limit': 5,\n",
      "                       'warmup_steps': 200,\n",
      "                       'weight_decay': 0.01}}\n"
     ]
    }
   ],
   "source": [
    "config = read_json(args.config)\n",
    "pprint(config)\n"
   ]
  },
  {
   "cell_type": "code",
   "execution_count": 7,
   "id": "14a1591a",
   "metadata": {},
   "outputs": [
    {
     "name": "stdout",
     "output_type": "stream",
     "text": [
      "{'do_eval': True,\n",
      " 'do_predict': True,\n",
      " 'do_train': True,\n",
      " 'evaluation_strategy': 'epoch',\n",
      " 'fp16': True,\n",
      " 'learning_rate': 3e-05,\n",
      " 'load_best_model_at_end': True,\n",
      " 'logging_dir': './logs',\n",
      " 'lr_scheduler_type': 'linear',\n",
      " 'metric_for_best_model': 'micro_f1',\n",
      " 'num_train_epochs': 5,\n",
      " 'output_dir': './models',\n",
      " 'per_device_eval_batch_size': 32,\n",
      " 'per_device_train_batch_size': 32,\n",
      " 'report_to': 'wandb',\n",
      " 'run_name': 'bert_finetunning',\n",
      " 'save_strategy': 'epoch',\n",
      " 'save_total_limit': 5,\n",
      " 'warmup_steps': 200,\n",
      " 'weight_decay': 0.01}\n"
     ]
    }
   ],
   "source": [
    "parser.set_defaults(**config['TrainingArguments'])\n",
    "pprint(parser._defaults)"
   ]
  },
  {
   "cell_type": "code",
   "execution_count": null,
   "id": "6624cad0",
   "metadata": {},
   "outputs": [],
   "source": []
  }
 ],
 "metadata": {
  "kernelspec": {
   "display_name": "py38_transformers",
   "language": "python",
   "name": "py38"
  },
  "language_info": {
   "codemirror_mode": {
    "name": "ipython",
    "version": 3
   },
   "file_extension": ".py",
   "mimetype": "text/x-python",
   "name": "python",
   "nbconvert_exporter": "python",
   "pygments_lexer": "ipython3",
   "version": "3.8.12"
  }
 },
 "nbformat": 4,
 "nbformat_minor": 5
}